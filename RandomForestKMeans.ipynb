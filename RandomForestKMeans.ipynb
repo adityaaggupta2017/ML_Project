{
 "cells": [
  {
   "cell_type": "code",
   "execution_count": 157,
   "metadata": {},
   "outputs": [
    {
     "name": "stderr",
     "output_type": "stream",
     "text": [
      "C:\\Users\\risha_l\\AppData\\Local\\Temp\\ipykernel_54116\\2118258631.py:3: DtypeWarning: Columns (28) have mixed types. Specify dtype option on import or set low_memory=False.\n",
      "  train = pd.read_csv('train.csv', nrows=4000000)\n"
     ]
    }
   ],
   "source": [
    "import pandas as pd\n",
    "from sklearn.model_selection import train_test_split\n",
    "train = pd.read_csv('train.csv', nrows=4000000)\n",
    "train_data, test_data = train_test_split(train, test_size=0.2, random_state=42)\n",
    "#randomly sample 80% your dataframe as training data\n",
    "#use the rest of the data as validation data\n",
    "train = train_data\n",
    "numerics = ['int8', 'int16', 'int32', 'int64', 'float16', 'float32', 'float64']"
   ]
  },
  {
   "cell_type": "code",
   "execution_count": null,
   "metadata": {},
   "outputs": [],
   "source": []
  },
  {
   "cell_type": "code",
   "execution_count": 158,
   "metadata": {},
   "outputs": [
    {
     "data": {
      "text/html": [
       "<div>\n",
       "<style scoped>\n",
       "    .dataframe tbody tr th:only-of-type {\n",
       "        vertical-align: middle;\n",
       "    }\n",
       "\n",
       "    .dataframe tbody tr th {\n",
       "        vertical-align: top;\n",
       "    }\n",
       "\n",
       "    .dataframe thead th {\n",
       "        text-align: right;\n",
       "    }\n",
       "</style>\n",
       "<table border=\"1\" class=\"dataframe\">\n",
       "  <thead>\n",
       "    <tr style=\"text-align: right;\">\n",
       "      <th></th>\n",
       "      <th>Feature</th>\n",
       "      <th>Unique_values</th>\n",
       "      <th>Percentage of missing values</th>\n",
       "      <th>Percentage of values in the biggest category</th>\n",
       "      <th>type</th>\n",
       "    </tr>\n",
       "  </thead>\n",
       "  <tbody>\n",
       "    <tr>\n",
       "      <th>28</th>\n",
       "      <td>PuaMode</td>\n",
       "      <td>1</td>\n",
       "      <td>99.973375</td>\n",
       "      <td>99.973375</td>\n",
       "      <td>object</td>\n",
       "    </tr>\n",
       "    <tr>\n",
       "      <th>41</th>\n",
       "      <td>Census_ProcessorClass</td>\n",
       "      <td>3</td>\n",
       "      <td>99.592125</td>\n",
       "      <td>99.592125</td>\n",
       "      <td>object</td>\n",
       "    </tr>\n",
       "    <tr>\n",
       "      <th>8</th>\n",
       "      <td>DefaultBrowsersIdentifier</td>\n",
       "      <td>1331</td>\n",
       "      <td>95.125938</td>\n",
       "      <td>95.125938</td>\n",
       "      <td>float64</td>\n",
       "    </tr>\n",
       "    <tr>\n",
       "      <th>68</th>\n",
       "      <td>Census_IsFlightingInternal</td>\n",
       "      <td>2</td>\n",
       "      <td>83.037719</td>\n",
       "      <td>83.037719</td>\n",
       "      <td>float64</td>\n",
       "    </tr>\n",
       "    <tr>\n",
       "      <th>52</th>\n",
       "      <td>Census_InternalBatteryType</td>\n",
       "      <td>54</td>\n",
       "      <td>71.027375</td>\n",
       "      <td>71.027375</td>\n",
       "      <td>object</td>\n",
       "    </tr>\n",
       "    <tr>\n",
       "      <th>...</th>\n",
       "      <td>...</td>\n",
       "      <td>...</td>\n",
       "      <td>...</td>\n",
       "      <td>...</td>\n",
       "      <td>...</td>\n",
       "    </tr>\n",
       "    <tr>\n",
       "      <th>1</th>\n",
       "      <td>ProductName</td>\n",
       "      <td>6</td>\n",
       "      <td>0.000000</td>\n",
       "      <td>98.931000</td>\n",
       "      <td>object</td>\n",
       "    </tr>\n",
       "    <tr>\n",
       "      <th>45</th>\n",
       "      <td>Census_HasOpticalDiskDrive</td>\n",
       "      <td>2</td>\n",
       "      <td>0.000000</td>\n",
       "      <td>92.292344</td>\n",
       "      <td>int64</td>\n",
       "    </tr>\n",
       "    <tr>\n",
       "      <th>54</th>\n",
       "      <td>Census_OSVersion</td>\n",
       "      <td>382</td>\n",
       "      <td>0.000000</td>\n",
       "      <td>15.859219</td>\n",
       "      <td>object</td>\n",
       "    </tr>\n",
       "    <tr>\n",
       "      <th>55</th>\n",
       "      <td>Census_OSArchitecture</td>\n",
       "      <td>3</td>\n",
       "      <td>0.000000</td>\n",
       "      <td>90.841906</td>\n",
       "      <td>object</td>\n",
       "    </tr>\n",
       "    <tr>\n",
       "      <th>82</th>\n",
       "      <td>HasDetections</td>\n",
       "      <td>2</td>\n",
       "      <td>0.000000</td>\n",
       "      <td>50.051344</td>\n",
       "      <td>int64</td>\n",
       "    </tr>\n",
       "  </tbody>\n",
       "</table>\n",
       "<p>83 rows × 5 columns</p>\n",
       "</div>"
      ],
      "text/plain": [
       "                       Feature  Unique_values  Percentage of missing values  \\\n",
       "28                     PuaMode              1                     99.973375   \n",
       "41       Census_ProcessorClass              3                     99.592125   \n",
       "8    DefaultBrowsersIdentifier           1331                     95.125938   \n",
       "68  Census_IsFlightingInternal              2                     83.037719   \n",
       "52  Census_InternalBatteryType             54                     71.027375   \n",
       "..                         ...            ...                           ...   \n",
       "1                  ProductName              6                      0.000000   \n",
       "45  Census_HasOpticalDiskDrive              2                      0.000000   \n",
       "54            Census_OSVersion            382                      0.000000   \n",
       "55       Census_OSArchitecture              3                      0.000000   \n",
       "82               HasDetections              2                      0.000000   \n",
       "\n",
       "    Percentage of values in the biggest category     type  \n",
       "28                                     99.973375   object  \n",
       "41                                     99.592125   object  \n",
       "8                                      95.125938  float64  \n",
       "68                                     83.037719  float64  \n",
       "52                                     71.027375   object  \n",
       "..                                           ...      ...  \n",
       "1                                      98.931000   object  \n",
       "45                                     92.292344    int64  \n",
       "54                                     15.859219   object  \n",
       "55                                     90.841906   object  \n",
       "82                                     50.051344    int64  \n",
       "\n",
       "[83 rows x 5 columns]"
      ]
     },
     "execution_count": 158,
     "metadata": {},
     "output_type": "execute_result"
    }
   ],
   "source": [
    "stats = []\n",
    "for col in train.columns:\n",
    "    stats.append((col, train[col].nunique(), train[col].isnull().sum() * 100 / train.shape[0], train[col].value_counts(normalize=True, dropna=False).values[0] * 100, train[col].dtype))\n",
    "    \n",
    "stats_df = pd.DataFrame(stats, columns=['Feature', 'Unique_values', 'Percentage of missing values', 'Percentage of values in the biggest category', 'type'])\n",
    "stats_df.sort_values('Percentage of missing values', ascending=False)"
   ]
  },
  {
   "cell_type": "markdown",
   "metadata": {},
   "source": [
    "We can see that PuaMode , Census_ProcessorClass have 99% of missing vaues so they can be removed from the analysis.\n"
   ]
  },
  {
   "cell_type": "code",
   "execution_count": 159,
   "metadata": {},
   "outputs": [],
   "source": [
    "good_cols = list(train.columns)\n",
    "for col in train.columns:\n",
    "    rate = train[col].value_counts(normalize=True, dropna=False).values[0]\n",
    "    if rate > 0.9:\n",
    "        good_cols.remove(col)"
   ]
  },
  {
   "cell_type": "code",
   "execution_count": 160,
   "metadata": {},
   "outputs": [],
   "source": [
    "train = train[good_cols]\n"
   ]
  },
  {
   "cell_type": "code",
   "execution_count": 161,
   "metadata": {},
   "outputs": [],
   "source": [
    "test_data= test_data[good_cols]"
   ]
  },
  {
   "cell_type": "code",
   "execution_count": 162,
   "metadata": {},
   "outputs": [
    {
     "name": "stdout",
     "output_type": "stream",
     "text": [
      "                        MachineIdentifier EngineVersion        AppVersion  \\\n",
      "2088093  3bec85e0e3d5e2e2e86fbe16cde6bb12   1.1.15200.1  4.12.17007.18022   \n",
      "96291    02c5a5fe3cfb9a0a27d373f50c6d0cae   1.1.15300.6   4.18.1807.18075   \n",
      "113546   0344cf00d4e57a4ff3d112ee860feab7   1.1.15200.1   4.18.1807.18075   \n",
      "3702826  6a42d82045509e1347da3f39a5b245dd   1.1.15100.1   4.18.1807.18075   \n",
      "3689919  69e35786de49202d474429523d9865c9   1.1.15200.1   4.8.10240.17443   \n",
      "\n",
      "        AvSigVersion  AVProductStatesIdentifier  AVProductsInstalled  \\\n",
      "2088093  1.275.898.0                    47238.0                  2.0   \n",
      "96291      1.277.4.0                    53447.0                  1.0   \n",
      "113546   1.275.981.0                    53447.0                  1.0   \n",
      "3702826  1.273.810.0                    53447.0                  1.0   \n",
      "3689919   1.275.26.0                    53447.0                  1.0   \n",
      "\n",
      "         CountryIdentifier  CityIdentifier  OrganizationIdentifier  \\\n",
      "2088093                 62        118260.0                    27.0   \n",
      "96291                   66         18408.0                    27.0   \n",
      "113546                 141         92213.0                    27.0   \n",
      "3702826                101        106750.0                    27.0   \n",
      "3689919                 29        155143.0                     NaN   \n",
      "\n",
      "         GeoNameIdentifier  ...  Census_IsFlightingInternal  \\\n",
      "2088093               88.0  ...                         NaN   \n",
      "96291                 89.0  ...                         NaN   \n",
      "113546               167.0  ...                         NaN   \n",
      "3702826              129.0  ...                         NaN   \n",
      "3689919               35.0  ...                         0.0   \n",
      "\n",
      "         Census_ThresholdOptIn  Census_FirmwareManufacturerIdentifier  \\\n",
      "2088093                    NaN                                  554.0   \n",
      "96291                      NaN                                  142.0   \n",
      "113546                     NaN                                  556.0   \n",
      "3702826                    NaN                                    NaN   \n",
      "3689919                    0.0                                  628.0   \n",
      "\n",
      "        Census_FirmwareVersionIdentifier Census_IsSecureBootEnabled  \\\n",
      "2088093                          33041.0                          1   \n",
      "96291                            38379.0                          1   \n",
      "113546                           63269.0                          1   \n",
      "3702826                              NaN                          0   \n",
      "3689919                          12190.0                          0   \n",
      "\n",
      "        Census_IsWIMBootEnabled  Census_IsTouchEnabled Wdft_IsGamer  \\\n",
      "2088093                     NaN                      0          0.0   \n",
      "96291                       NaN                      0          1.0   \n",
      "113546                      NaN                      0          0.0   \n",
      "3702826                     NaN                      0          0.0   \n",
      "3689919                     0.0                      0          0.0   \n",
      "\n",
      "        Wdft_RegionIdentifier  HasDetections  \n",
      "2088093                  15.0              0  \n",
      "96291                     5.0              0  \n",
      "113546                   10.0              1  \n",
      "3702826                   9.0              1  \n",
      "3689919                  10.0              1  \n",
      "\n",
      "[5 rows x 57 columns]\n"
     ]
    }
   ],
   "source": [
    "print(train.head())\n",
    "#print(train['Census_OSEdition'])"
   ]
  },
  {
   "cell_type": "code",
   "execution_count": 163,
   "metadata": {},
   "outputs": [
    {
     "name": "stderr",
     "output_type": "stream",
     "text": [
      "C:\\Users\\risha_l\\AppData\\Local\\Temp\\ipykernel_54116\\3153339919.py:1: SettingWithCopyWarning: \n",
      "A value is trying to be set on a copy of a slice from a DataFrame.\n",
      "Try using .loc[row_indexer,col_indexer] = value instead\n",
      "\n",
      "See the caveats in the documentation: https://pandas.pydata.org/pandas-docs/stable/user_guide/indexing.html#returning-a-view-versus-a-copy\n",
      "  train['AVProductStatesIdentifier'] = train['AVProductStatesIdentifier'].astype('category')\n"
     ]
    }
   ],
   "source": [
    "train['AVProductStatesIdentifier'] = train['AVProductStatesIdentifier'].astype('category')\n",
    "test_data['AVProductStatesIdentifier'] = test_data['AVProductStatesIdentifier'].astype('category')"
   ]
  },
  {
   "cell_type": "code",
   "execution_count": 164,
   "metadata": {},
   "outputs": [
    {
     "name": "stderr",
     "output_type": "stream",
     "text": [
      "C:\\Users\\risha_l\\AppData\\Local\\Temp\\ipykernel_54116\\404507562.py:1: SettingWithCopyWarning: \n",
      "A value is trying to be set on a copy of a slice from a DataFrame.\n",
      "Try using .loc[row_indexer,col_indexer] = value instead\n",
      "\n",
      "See the caveats in the documentation: https://pandas.pydata.org/pandas-docs/stable/user_guide/indexing.html#returning-a-view-versus-a-copy\n",
      "  train['CountryIdentifier'] = train['CountryIdentifier'].astype('category')\n"
     ]
    }
   ],
   "source": [
    "train['CountryIdentifier'] = train['CountryIdentifier'].astype('category')\n",
    "test_data['CountryIdentifier'] = test_data['CountryIdentifier'].astype('category')"
   ]
  },
  {
   "cell_type": "code",
   "execution_count": 165,
   "metadata": {},
   "outputs": [
    {
     "name": "stderr",
     "output_type": "stream",
     "text": [
      "C:\\Users\\risha_l\\AppData\\Local\\Temp\\ipykernel_54116\\3677329951.py:1: SettingWithCopyWarning: \n",
      "A value is trying to be set on a copy of a slice from a DataFrame.\n",
      "Try using .loc[row_indexer,col_indexer] = value instead\n",
      "\n",
      "See the caveats in the documentation: https://pandas.pydata.org/pandas-docs/stable/user_guide/indexing.html#returning-a-view-versus-a-copy\n",
      "  train['CityIdentifier'] = train['CityIdentifier'].astype('category')\n"
     ]
    }
   ],
   "source": [
    "train['CityIdentifier'] = train['CityIdentifier'].astype('category')\n",
    "test_data['CityIdentifier'] = test_data['CityIdentifier'].astype('category')"
   ]
  },
  {
   "cell_type": "code",
   "execution_count": 166,
   "metadata": {},
   "outputs": [
    {
     "name": "stderr",
     "output_type": "stream",
     "text": [
      "C:\\Users\\risha_l\\AppData\\Local\\Temp\\ipykernel_54116\\3868114160.py:1: SettingWithCopyWarning: \n",
      "A value is trying to be set on a copy of a slice from a DataFrame.\n",
      "Try using .loc[row_indexer,col_indexer] = value instead\n",
      "\n",
      "See the caveats in the documentation: https://pandas.pydata.org/pandas-docs/stable/user_guide/indexing.html#returning-a-view-versus-a-copy\n",
      "  train['OrganizationIdentifier'] = train['OrganizationIdentifier'].astype('category')\n"
     ]
    }
   ],
   "source": [
    "train['OrganizationIdentifier'] = train['OrganizationIdentifier'].astype('category')\n",
    "test_data['OrganizationIdentifier'] = test_data['OrganizationIdentifier'].astype('category')"
   ]
  },
  {
   "cell_type": "code",
   "execution_count": 167,
   "metadata": {},
   "outputs": [
    {
     "name": "stderr",
     "output_type": "stream",
     "text": [
      "C:\\Users\\risha_l\\AppData\\Local\\Temp\\ipykernel_54116\\1201385236.py:1: SettingWithCopyWarning: \n",
      "A value is trying to be set on a copy of a slice from a DataFrame.\n",
      "Try using .loc[row_indexer,col_indexer] = value instead\n",
      "\n",
      "See the caveats in the documentation: https://pandas.pydata.org/pandas-docs/stable/user_guide/indexing.html#returning-a-view-versus-a-copy\n",
      "  train['GeoNameIdentifier'] = train['GeoNameIdentifier'].astype('category')\n"
     ]
    }
   ],
   "source": [
    "train['GeoNameIdentifier'] = train['GeoNameIdentifier'].astype('category')\n",
    "test_data['GeoNameIdentifier'] = test_data['GeoNameIdentifier'].astype('category')"
   ]
  },
  {
   "cell_type": "code",
   "execution_count": 168,
   "metadata": {},
   "outputs": [
    {
     "name": "stderr",
     "output_type": "stream",
     "text": [
      "C:\\Users\\risha_l\\AppData\\Local\\Temp\\ipykernel_54116\\328959866.py:1: SettingWithCopyWarning: \n",
      "A value is trying to be set on a copy of a slice from a DataFrame.\n",
      "Try using .loc[row_indexer,col_indexer] = value instead\n",
      "\n",
      "See the caveats in the documentation: https://pandas.pydata.org/pandas-docs/stable/user_guide/indexing.html#returning-a-view-versus-a-copy\n",
      "  train['LocaleEnglishNameIdentifier'] = train['LocaleEnglishNameIdentifier'].astype('category')\n"
     ]
    }
   ],
   "source": [
    "train['LocaleEnglishNameIdentifier'] = train['LocaleEnglishNameIdentifier'].astype('category')\n",
    "test_data['LocaleEnglishNameIdentifier'] = test_data['LocaleEnglishNameIdentifier'].astype('category')"
   ]
  },
  {
   "cell_type": "code",
   "execution_count": 169,
   "metadata": {},
   "outputs": [
    {
     "name": "stderr",
     "output_type": "stream",
     "text": [
      "C:\\Users\\risha_l\\AppData\\Local\\Temp\\ipykernel_54116\\3097715943.py:1: SettingWithCopyWarning: \n",
      "A value is trying to be set on a copy of a slice from a DataFrame.\n",
      "Try using .loc[row_indexer,col_indexer] = value instead\n",
      "\n",
      "See the caveats in the documentation: https://pandas.pydata.org/pandas-docs/stable/user_guide/indexing.html#returning-a-view-versus-a-copy\n",
      "  train['IeVerIdentifier'] = train['IeVerIdentifier'].astype('category')\n"
     ]
    }
   ],
   "source": [
    "train['IeVerIdentifier'] = train['IeVerIdentifier'].astype('category')\n",
    "test_data['IeVerIdentifier'] = test_data['IeVerIdentifier'].astype('category')"
   ]
  },
  {
   "cell_type": "code",
   "execution_count": 170,
   "metadata": {},
   "outputs": [
    {
     "name": "stderr",
     "output_type": "stream",
     "text": [
      "C:\\Users\\risha_l\\AppData\\Local\\Temp\\ipykernel_54116\\9983864.py:1: SettingWithCopyWarning: \n",
      "A value is trying to be set on a copy of a slice from a DataFrame.\n",
      "Try using .loc[row_indexer,col_indexer] = value instead\n",
      "\n",
      "See the caveats in the documentation: https://pandas.pydata.org/pandas-docs/stable/user_guide/indexing.html#returning-a-view-versus-a-copy\n",
      "  train['Census_OEMNameIdentifier'] = train['Census_OEMNameIdentifier'].astype('category')\n"
     ]
    }
   ],
   "source": [
    "train['Census_OEMNameIdentifier'] = train['Census_OEMNameIdentifier'].astype('category')\n",
    "test_data['Census_OEMNameIdentifier'] = test_data['Census_OEMNameIdentifier'].astype('category')"
   ]
  },
  {
   "cell_type": "code",
   "execution_count": 171,
   "metadata": {},
   "outputs": [
    {
     "name": "stderr",
     "output_type": "stream",
     "text": [
      "C:\\Users\\risha_l\\AppData\\Local\\Temp\\ipykernel_54116\\2613291456.py:1: SettingWithCopyWarning: \n",
      "A value is trying to be set on a copy of a slice from a DataFrame.\n",
      "Try using .loc[row_indexer,col_indexer] = value instead\n",
      "\n",
      "See the caveats in the documentation: https://pandas.pydata.org/pandas-docs/stable/user_guide/indexing.html#returning-a-view-versus-a-copy\n",
      "  train['Census_OEMModelIdentifier'] = train['Census_OEMModelIdentifier'].astype('category')\n"
     ]
    }
   ],
   "source": [
    "train['Census_OEMModelIdentifier'] = train['Census_OEMModelIdentifier'].astype('category')\n",
    "test_data['Census_OEMModelIdentifier'] = test_data['Census_OEMModelIdentifier'].astype('category')"
   ]
  },
  {
   "cell_type": "code",
   "execution_count": 172,
   "metadata": {},
   "outputs": [
    {
     "name": "stderr",
     "output_type": "stream",
     "text": [
      "C:\\Users\\risha_l\\AppData\\Local\\Temp\\ipykernel_54116\\383487679.py:1: SettingWithCopyWarning: \n",
      "A value is trying to be set on a copy of a slice from a DataFrame.\n",
      "Try using .loc[row_indexer,col_indexer] = value instead\n",
      "\n",
      "See the caveats in the documentation: https://pandas.pydata.org/pandas-docs/stable/user_guide/indexing.html#returning-a-view-versus-a-copy\n",
      "  train['Census_ProcessorModelIdentifier'] = train['Census_ProcessorModelIdentifier'].astype('category')\n"
     ]
    }
   ],
   "source": [
    "train['Census_ProcessorModelIdentifier'] = train['Census_ProcessorModelIdentifier'].astype('category')\n",
    "test_data['Census_ProcessorModelIdentifier'] = test_data['Census_ProcessorModelIdentifier'].astype('category')"
   ]
  },
  {
   "cell_type": "code",
   "execution_count": 173,
   "metadata": {},
   "outputs": [
    {
     "name": "stderr",
     "output_type": "stream",
     "text": [
      "C:\\Users\\risha_l\\AppData\\Local\\Temp\\ipykernel_54116\\2682796365.py:1: SettingWithCopyWarning: \n",
      "A value is trying to be set on a copy of a slice from a DataFrame.\n",
      "Try using .loc[row_indexer,col_indexer] = value instead\n",
      "\n",
      "See the caveats in the documentation: https://pandas.pydata.org/pandas-docs/stable/user_guide/indexing.html#returning-a-view-versus-a-copy\n",
      "  train['Census_InternalBatteryNumberOfCharges'] = train['Census_InternalBatteryNumberOfCharges'].astype('category')\n"
     ]
    }
   ],
   "source": [
    "train['Census_InternalBatteryNumberOfCharges'] = train['Census_InternalBatteryNumberOfCharges'].astype('category')\n",
    "test_data['Census_InternalBatteryNumberOfCharges'] = test_data['Census_InternalBatteryNumberOfCharges'].astype('category')"
   ]
  },
  {
   "cell_type": "code",
   "execution_count": 176,
   "metadata": {},
   "outputs": [
    {
     "name": "stderr",
     "output_type": "stream",
     "text": [
      "C:\\Users\\risha_l\\AppData\\Local\\Temp\\ipykernel_54116\\51552932.py:1: SettingWithCopyWarning: \n",
      "A value is trying to be set on a copy of a slice from a DataFrame.\n",
      "Try using .loc[row_indexer,col_indexer] = value instead\n",
      "\n",
      "See the caveats in the documentation: https://pandas.pydata.org/pandas-docs/stable/user_guide/indexing.html#returning-a-view-versus-a-copy\n",
      "  train['Census_OSBuildNumber'] = train['Census_OSBuildNumber'].astype('category')\n"
     ]
    }
   ],
   "source": [
    "train['Census_OSBuildNumber'] = train['Census_OSBuildNumber'].astype('category')\n",
    "test_data['Census_OSBuildNumber'] = test_data['Census_OSBuildNumber'].astype('category')"
   ]
  },
  {
   "cell_type": "code",
   "execution_count": 177,
   "metadata": {},
   "outputs": [
    {
     "name": "stderr",
     "output_type": "stream",
     "text": [
      "C:\\Users\\risha_l\\AppData\\Local\\Temp\\ipykernel_54116\\2290077691.py:1: SettingWithCopyWarning: \n",
      "A value is trying to be set on a copy of a slice from a DataFrame.\n",
      "Try using .loc[row_indexer,col_indexer] = value instead\n",
      "\n",
      "See the caveats in the documentation: https://pandas.pydata.org/pandas-docs/stable/user_guide/indexing.html#returning-a-view-versus-a-copy\n",
      "  train['Census_OSBuildRevision'] = train['Census_OSBuildRevision'].astype('category')\n"
     ]
    }
   ],
   "source": [
    "train['Census_OSBuildRevision'] = train['Census_OSBuildRevision'].astype('category')\n",
    "test_data['Census_OSBuildRevision'] = test_data['Census_OSBuildRevision'].astype('category')"
   ]
  },
  {
   "cell_type": "code",
   "execution_count": 178,
   "metadata": {},
   "outputs": [
    {
     "name": "stderr",
     "output_type": "stream",
     "text": [
      "C:\\Users\\risha_l\\AppData\\Local\\Temp\\ipykernel_54116\\750082928.py:1: SettingWithCopyWarning: \n",
      "A value is trying to be set on a copy of a slice from a DataFrame.\n",
      "Try using .loc[row_indexer,col_indexer] = value instead\n",
      "\n",
      "See the caveats in the documentation: https://pandas.pydata.org/pandas-docs/stable/user_guide/indexing.html#returning-a-view-versus-a-copy\n",
      "  train['Census_FirmwareManufacturerIdentifier'] = train['Census_FirmwareManufacturerIdentifier'].astype('category')\n"
     ]
    }
   ],
   "source": [
    "train['Census_FirmwareManufacturerIdentifier'] = train['Census_FirmwareManufacturerIdentifier'].astype('category')\n",
    "test_data['Census_FirmwareManufacturerIdentifier'] = test_data['Census_FirmwareManufacturerIdentifier'].astype('category')"
   ]
  },
  {
   "cell_type": "code",
   "execution_count": 179,
   "metadata": {},
   "outputs": [
    {
     "name": "stderr",
     "output_type": "stream",
     "text": [
      "C:\\Users\\risha_l\\AppData\\Local\\Temp\\ipykernel_54116\\2025037295.py:1: SettingWithCopyWarning: \n",
      "A value is trying to be set on a copy of a slice from a DataFrame.\n",
      "Try using .loc[row_indexer,col_indexer] = value instead\n",
      "\n",
      "See the caveats in the documentation: https://pandas.pydata.org/pandas-docs/stable/user_guide/indexing.html#returning-a-view-versus-a-copy\n",
      "  train['Census_FirmwareVersionIdentifier'] = train['Census_FirmwareVersionIdentifier'].astype('category')\n"
     ]
    }
   ],
   "source": [
    "train['Census_FirmwareVersionIdentifier'] = train['Census_FirmwareVersionIdentifier'].astype('category')\n",
    "test_data['Census_FirmwareVersionIdentifier'] = test_data['Census_FirmwareVersionIdentifier'].astype('category')"
   ]
  },
  {
   "cell_type": "code",
   "execution_count": 180,
   "metadata": {},
   "outputs": [
    {
     "name": "stderr",
     "output_type": "stream",
     "text": [
      "C:\\Users\\risha_l\\AppData\\Local\\Temp\\ipykernel_54116\\998034835.py:1: SettingWithCopyWarning: \n",
      "A value is trying to be set on a copy of a slice from a DataFrame.\n",
      "Try using .loc[row_indexer,col_indexer] = value instead\n",
      "\n",
      "See the caveats in the documentation: https://pandas.pydata.org/pandas-docs/stable/user_guide/indexing.html#returning-a-view-versus-a-copy\n",
      "  train['OsBuild'] = train['OsBuild'].astype('category')\n"
     ]
    }
   ],
   "source": [
    "train['OsBuild'] = train['OsBuild'].astype('category')\n",
    "test_data['OsBuild'] = test_data['OsBuild'].astype('category')"
   ]
  },
  {
   "cell_type": "code",
   "execution_count": 181,
   "metadata": {},
   "outputs": [
    {
     "name": "stdout",
     "output_type": "stream",
     "text": [
      "2088093     NaN\n",
      "96291       NaN\n",
      "113546      NaN\n",
      "3702826     NaN\n",
      "3689919    lion\n",
      "           ... \n",
      "2356330     NaN\n",
      "3511566    lion\n",
      "2229084    li-i\n",
      "2768307     NaN\n",
      "2219110     NaN\n",
      "Name: Census_InternalBatteryType, Length: 3200000, dtype: object\n"
     ]
    }
   ],
   "source": [
    "print(train['Census_InternalBatteryType'])"
   ]
  },
  {
   "cell_type": "code",
   "execution_count": 182,
   "metadata": {},
   "outputs": [
    {
     "name": "stdout",
     "output_type": "stream",
     "text": [
      "Index(['MachineIdentifier', 'EngineVersion', 'AppVersion', 'AvSigVersion',\n",
      "       'AVProductStatesIdentifier', 'AVProductsInstalled', 'CountryIdentifier',\n",
      "       'CityIdentifier', 'OrganizationIdentifier', 'GeoNameIdentifier',\n",
      "       'LocaleEnglishNameIdentifier', 'OsBuild', 'OsSuite',\n",
      "       'OsPlatformSubRelease', 'OsBuildLab', 'SkuEdition', 'IeVerIdentifier',\n",
      "       'SmartScreen', 'Census_MDC2FormFactor', 'Census_OEMNameIdentifier',\n",
      "       'Census_OEMModelIdentifier', 'Census_ProcessorCoreCount',\n",
      "       'Census_ProcessorManufacturerIdentifier',\n",
      "       'Census_ProcessorModelIdentifier', 'Census_PrimaryDiskTotalCapacity',\n",
      "       'Census_PrimaryDiskTypeName', 'Census_SystemVolumeTotalCapacity',\n",
      "       'Census_TotalPhysicalRAM', 'Census_ChassisTypeName',\n",
      "       'Census_InternalPrimaryDiagonalDisplaySizeInInches',\n",
      "       'Census_InternalPrimaryDisplayResolutionHorizontal',\n",
      "       'Census_InternalPrimaryDisplayResolutionVertical',\n",
      "       'Census_PowerPlatformRoleName', 'Census_InternalBatteryType',\n",
      "       'Census_InternalBatteryNumberOfCharges', 'Census_OSVersion',\n",
      "       'Census_OSBranch', 'Census_OSBuildNumber', 'Census_OSBuildRevision',\n",
      "       'Census_OSEdition', 'Census_OSSkuName', 'Census_OSInstallTypeName',\n",
      "       'Census_OSInstallLanguageIdentifier', 'Census_OSUILocaleIdentifier',\n",
      "       'Census_OSWUAutoUpdateOptionsName', 'Census_GenuineStateName',\n",
      "       'Census_ActivationChannel', 'Census_IsFlightingInternal',\n",
      "       'Census_ThresholdOptIn', 'Census_FirmwareManufacturerIdentifier',\n",
      "       'Census_FirmwareVersionIdentifier', 'Census_IsSecureBootEnabled',\n",
      "       'Census_IsWIMBootEnabled', 'Census_IsTouchEnabled', 'Wdft_IsGamer',\n",
      "       'Wdft_RegionIdentifier', 'HasDetections'],\n",
      "      dtype='object')\n"
     ]
    }
   ],
   "source": [
    "print(train.columns)"
   ]
  },
  {
   "cell_type": "code",
   "execution_count": 183,
   "metadata": {},
   "outputs": [],
   "source": [
    "train= train.drop(columns=['Census_InternalBatteryType'])\n",
    "test_data= test_data.drop(columns=['Census_InternalBatteryType'])"
   ]
  },
  {
   "cell_type": "code",
   "execution_count": 184,
   "metadata": {},
   "outputs": [],
   "source": [
    "train['Census_OSEdition'] = train['Census_OSEdition'].astype(str)\n",
    "test_data['Census_OSEdition'] = test_data['Census_OSEdition'].astype(str)\n",
    "train['Census_OSEdition'] = train['Census_OSEdition'].astype('category')\n",
    "test_data['Census_OSEdition'] = test_data['Census_OSEdition'].astype('category')"
   ]
  },
  {
   "cell_type": "code",
   "execution_count": 185,
   "metadata": {},
   "outputs": [],
   "source": [
    "train['Census_OSSkuName'] = train['Census_OSSkuName'].astype(str)\n",
    "test_data['Census_OSSkuName'] = test_data['Census_OSSkuName'].astype(str)\n",
    "train['Census_OSSkuName'] = train['Census_OSSkuName'].astype('category')\n",
    "test_data['Census_OSSkuName'] = test_data['Census_OSSkuName'].astype('category')"
   ]
  },
  {
   "cell_type": "code",
   "execution_count": 186,
   "metadata": {},
   "outputs": [],
   "source": [
    "train['Census_OSInstallLanguageIdentifier'] = train['Census_OSInstallLanguageIdentifier'].astype('category')\n",
    "test_data['Census_OSInstallLanguageIdentifier'] = test_data['Census_OSInstallLanguageIdentifier'].astype('category')"
   ]
  },
  {
   "cell_type": "code",
   "execution_count": 187,
   "metadata": {},
   "outputs": [],
   "source": [
    "train['Census_OSUILocaleIdentifier'] = train['Census_OSUILocaleIdentifier'].astype('category')\n",
    "test_data['Census_OSUILocaleIdentifier'] = test_data['Census_OSUILocaleIdentifier'].astype('category')"
   ]
  },
  {
   "cell_type": "code",
   "execution_count": 188,
   "metadata": {},
   "outputs": [],
   "source": [
    "train['OsSuite'] = train['OsSuite'].astype('category')\n",
    "test_data['OsSuite'] = test_data['OsSuite'].astype('category')"
   ]
  },
  {
   "cell_type": "code",
   "execution_count": 189,
   "metadata": {},
   "outputs": [],
   "source": [
    "train['Wdft_RegionIdentifier'] = train['Wdft_RegionIdentifier'].astype('category')\n",
    "test_data['Wdft_RegionIdentifier'] = test_data['Wdft_RegionIdentifier'].astype('category')"
   ]
  },
  {
   "cell_type": "code",
   "execution_count": 190,
   "metadata": {},
   "outputs": [
    {
     "data": {
      "text/plain": [
       "SkuEdition\n",
       "Home               0.617989\n",
       "Pro                0.361489\n",
       "Invalid            0.008771\n",
       "Education          0.004544\n",
       "Enterprise         0.003864\n",
       "Enterprise LTSB    0.002310\n",
       "Cloud              0.000623\n",
       "Server             0.000410\n",
       "Name: proportion, dtype: float64"
      ]
     },
     "execution_count": 190,
     "metadata": {},
     "output_type": "execute_result"
    }
   ],
   "source": [
    "train['SkuEdition'].value_counts(dropna=False, normalize=True)"
   ]
  },
  {
   "cell_type": "code",
   "execution_count": 191,
   "metadata": {},
   "outputs": [],
   "source": [
    "train['OsBuildLab']= train['OsBuildLab'].astype('category')\n",
    "test_data['OsBuildLab']= test_data['OsBuildLab'].astype('category')"
   ]
  },
  {
   "cell_type": "code",
   "execution_count": 192,
   "metadata": {},
   "outputs": [],
   "source": [
    "train['OsBuildLab'] = train['OsBuildLab'].cat.add_categories(['0.0.0.0.0-0'])\n",
    "train['OsBuildLab'] = train['OsBuildLab'].fillna('0.0.0.0.0-0')\n",
    "test_data['OsBuildLab'] = test_data['OsBuildLab'].cat.add_categories(['0.0.0.0.0-0'])\n",
    "test_data['OsBuildLab'] = test_data['OsBuildLab'].fillna('0.0.0.0.0-0')"
   ]
  },
  {
   "cell_type": "code",
   "execution_count": 193,
   "metadata": {},
   "outputs": [],
   "source": [
    "def fe(df):\n",
    "    df['EngineVersion_2'] = df['EngineVersion'].apply(lambda x: x.split('.')[2]).astype('category')\n",
    "    df['EngineVersion_3'] = df['EngineVersion'].apply(lambda x: x.split('.')[3]).astype('category')\n",
    "\n",
    "    df['AppVersion_1'] = df['AppVersion'].apply(lambda x: x.split('.')[1]).astype('category')\n",
    "    df['AppVersion_2'] = df['AppVersion'].apply(lambda x: x.split('.')[2]).astype('category')\n",
    "    df['AppVersion_3'] = df['AppVersion'].apply(lambda x: x.split('.')[3]).astype('category')\n",
    "\n",
    "    df['AvSigVersion_0'] = df['AvSigVersion'].apply(lambda x: x.split('.')[0]).astype('category')\n",
    "    df['AvSigVersion_1'] = df['AvSigVersion'].apply(lambda x: x.split('.')[1]).astype('category')\n",
    "    df['AvSigVersion_2'] = df['AvSigVersion'].apply(lambda x: x.split('.')[2]).astype('category')\n",
    "\n",
    "    df['OsBuildLab_0'] = df['OsBuildLab'].apply(lambda x: x.split('.')[0]).astype('category')\n",
    "    df['OsBuildLab_1'] = df['OsBuildLab'].apply(lambda x: x.split('.')[1]).astype('category')\n",
    "    df['OsBuildLab_2'] = df['OsBuildLab'].apply(lambda x: x.split('.')[2]).astype('category')\n",
    "    df['OsBuildLab_3'] = df['OsBuildLab'].apply(lambda x: x.split('.')[3]).astype('category')\n",
    "    # df['OsBuildLab_40'] = df['OsBuildLab'].apply(lambda x: x.split('.')[-1].split('-')[0]).astype('category')\n",
    "    # df['OsBuildLab_41'] = df['OsBuildLab'].apply(lambda x: x.split('.')[-1].split('-')[1]).astype('category')\n",
    "\n",
    "    df['Census_OSVersion_0'] = df['Census_OSVersion'].apply(lambda x: x.split('.')[0]).astype('category')\n",
    "    df['Census_OSVersion_1'] = df['Census_OSVersion'].apply(lambda x: x.split('.')[1]).astype('category')\n",
    "    df['Census_OSVersion_2'] = df['Census_OSVersion'].apply(lambda x: x.split('.')[2]).astype('category')\n",
    "    df['Census_OSVersion_3'] = df['Census_OSVersion'].apply(lambda x: x.split('.')[3]).astype('category')\n",
    "\n",
    "     #https://www.kaggle.com/adityaecdrid/simple-feature-engineering-xd\n",
    "    df['primary_drive_c_ratio'] = df['Census_SystemVolumeTotalCapacity']/ df['Census_PrimaryDiskTotalCapacity']\n",
    "    df['non_primary_drive_MB'] = df['Census_PrimaryDiskTotalCapacity'] - df['Census_SystemVolumeTotalCapacity']\n",
    "\n",
    "    df['aspect_ratio'] = df['Census_InternalPrimaryDisplayResolutionHorizontal']/ df['Census_InternalPrimaryDisplayResolutionVertical']\n",
    "\n",
    "    df['monitor_dims'] = df['Census_InternalPrimaryDisplayResolutionHorizontal'].astype(str) + '*' + df['Census_InternalPrimaryDisplayResolutionVertical'].astype('str')\n",
    "    df['monitor_dims'] = df['monitor_dims'].astype('category')\n",
    "\n",
    "    df['dpi'] = ((df['Census_InternalPrimaryDisplayResolutionHorizontal']**2 + df['Census_InternalPrimaryDisplayResolutionVertical']**2)**.5)/(df['Census_InternalPrimaryDiagonalDisplaySizeInInches'])\n",
    "\n",
    "    df['dpi_square'] = df['dpi'] ** 2\n",
    "\n",
    "    df['MegaPixels'] = (df['Census_InternalPrimaryDisplayResolutionHorizontal'] * df['Census_InternalPrimaryDisplayResolutionVertical'])/1e6\n",
    "\n",
    "    df['Screen_Area'] = (df['aspect_ratio']* (df['Census_InternalPrimaryDiagonalDisplaySizeInInches']**2))/(df['aspect_ratio']**2 + 1)\n",
    "\n",
    "    df['ram_per_processor'] = df['Census_TotalPhysicalRAM']/ df['Census_ProcessorCoreCount']\n",
    "\n",
    "    df['new_num_0'] = df['Census_InternalPrimaryDiagonalDisplaySizeInInches'] / df['Census_ProcessorCoreCount']\n",
    "\n",
    "    df['new_num_1'] = df['Census_ProcessorCoreCount'] * df['Census_InternalPrimaryDiagonalDisplaySizeInInches']\n",
    "    \n",
    "    df['Census_IsFlightingInternal'] = df['Census_IsFlightingInternal'].fillna(1)\n",
    "    df['Census_ThresholdOptIn'] = df['Census_ThresholdOptIn'].fillna(1)\n",
    "    df['Census_IsWIMBootEnabled'] = df['Census_IsWIMBootEnabled'].fillna(1)\n",
    "    df['Wdft_IsGamer'] = df['Wdft_IsGamer'].fillna(0)\n",
    "    \n",
    "    return df"
   ]
  },
  {
   "cell_type": "code",
   "execution_count": 194,
   "metadata": {},
   "outputs": [],
   "source": [
    "train = fe(train)\n",
    "test = fe(test_data)"
   ]
  },
  {
   "cell_type": "code",
   "execution_count": 195,
   "metadata": {},
   "outputs": [
    {
     "name": "stdout",
     "output_type": "stream",
     "text": [
      "Number of null values in each column:\n",
      "MachineIdentifier            0\n",
      "EngineVersion                0\n",
      "AppVersion                   0\n",
      "AvSigVersion                 0\n",
      "AVProductStatesIdentifier    0\n",
      "                            ..\n",
      "MegaPixels                   0\n",
      "Screen_Area                  0\n",
      "ram_per_processor            0\n",
      "new_num_0                    0\n",
      "new_num_1                    0\n",
      "Length: 83, dtype: int64\n"
     ]
    }
   ],
   "source": [
    "#check for null values in train \n",
    "#iterate thorugh each column of train and test remove samples with null values \n",
    "#check for null values in test\n",
    "#iterate thorugh each column of train and test remove samples with null values\n",
    "train = train.dropna()\n",
    "test = test.dropna()\n",
    "null_counts = train.isnull().sum()\n",
    "print(\"Number of null values in each column:\\n{}\".format(null_counts))"
   ]
  },
  {
   "cell_type": "code",
   "execution_count": 196,
   "metadata": {},
   "outputs": [
    {
     "data": {
      "text/plain": [
       "40"
      ]
     },
     "execution_count": 196,
     "metadata": {},
     "output_type": "execute_result"
    }
   ],
   "source": [
    "cat_cols = [col for col in train.columns if col not in ['MachineIdentifier', 'Census_SystemVolumeTotalCapacity', 'HasDetections'] and str(train[col].dtype) == 'category']\n",
    "len(cat_cols)"
   ]
  },
  {
   "cell_type": "code",
   "execution_count": 197,
   "metadata": {},
   "outputs": [
    {
     "name": "stderr",
     "output_type": "stream",
     "text": [
      "C:\\Users\\risha_l\\AppData\\Local\\Temp\\ipykernel_54116\\3659823727.py:13: SettingWithCopyWarning: \n",
      "A value is trying to be set on a copy of a slice from a DataFrame.\n",
      "Try using .loc[row_indexer,col_indexer] = value instead\n",
      "\n",
      "See the caveats in the documentation: https://pandas.pydata.org/pandas-docs/stable/user_guide/indexing.html#returning-a-view-versus-a-copy\n",
      "  test[col1 + '__' + col2] = test[col1].astype(str) + test[col2].astype(str)\n",
      "C:\\Users\\risha_l\\AppData\\Local\\Temp\\ipykernel_54116\\3659823727.py:14: SettingWithCopyWarning: \n",
      "A value is trying to be set on a copy of a slice from a DataFrame.\n",
      "Try using .loc[row_indexer,col_indexer] = value instead\n",
      "\n",
      "See the caveats in the documentation: https://pandas.pydata.org/pandas-docs/stable/user_guide/indexing.html#returning-a-view-versus-a-copy\n",
      "  test[col1 + '__' + col2] = test[col1 + '__' + col2].astype('category')\n",
      "C:\\Users\\risha_l\\AppData\\Local\\Temp\\ipykernel_54116\\3659823727.py:13: SettingWithCopyWarning: \n",
      "A value is trying to be set on a copy of a slice from a DataFrame.\n",
      "Try using .loc[row_indexer,col_indexer] = value instead\n",
      "\n",
      "See the caveats in the documentation: https://pandas.pydata.org/pandas-docs/stable/user_guide/indexing.html#returning-a-view-versus-a-copy\n",
      "  test[col1 + '__' + col2] = test[col1].astype(str) + test[col2].astype(str)\n",
      "C:\\Users\\risha_l\\AppData\\Local\\Temp\\ipykernel_54116\\3659823727.py:14: SettingWithCopyWarning: \n",
      "A value is trying to be set on a copy of a slice from a DataFrame.\n",
      "Try using .loc[row_indexer,col_indexer] = value instead\n",
      "\n",
      "See the caveats in the documentation: https://pandas.pydata.org/pandas-docs/stable/user_guide/indexing.html#returning-a-view-versus-a-copy\n",
      "  test[col1 + '__' + col2] = test[col1 + '__' + col2].astype('category')\n",
      "C:\\Users\\risha_l\\AppData\\Local\\Temp\\ipykernel_54116\\3659823727.py:13: SettingWithCopyWarning: \n",
      "A value is trying to be set on a copy of a slice from a DataFrame.\n",
      "Try using .loc[row_indexer,col_indexer] = value instead\n",
      "\n",
      "See the caveats in the documentation: https://pandas.pydata.org/pandas-docs/stable/user_guide/indexing.html#returning-a-view-versus-a-copy\n",
      "  test[col1 + '__' + col2] = test[col1].astype(str) + test[col2].astype(str)\n",
      "C:\\Users\\risha_l\\AppData\\Local\\Temp\\ipykernel_54116\\3659823727.py:14: SettingWithCopyWarning: \n",
      "A value is trying to be set on a copy of a slice from a DataFrame.\n",
      "Try using .loc[row_indexer,col_indexer] = value instead\n",
      "\n",
      "See the caveats in the documentation: https://pandas.pydata.org/pandas-docs/stable/user_guide/indexing.html#returning-a-view-versus-a-copy\n",
      "  test[col1 + '__' + col2] = test[col1 + '__' + col2].astype('category')\n",
      "C:\\Users\\risha_l\\AppData\\Local\\Temp\\ipykernel_54116\\3659823727.py:13: SettingWithCopyWarning: \n",
      "A value is trying to be set on a copy of a slice from a DataFrame.\n",
      "Try using .loc[row_indexer,col_indexer] = value instead\n",
      "\n",
      "See the caveats in the documentation: https://pandas.pydata.org/pandas-docs/stable/user_guide/indexing.html#returning-a-view-versus-a-copy\n",
      "  test[col1 + '__' + col2] = test[col1].astype(str) + test[col2].astype(str)\n",
      "C:\\Users\\risha_l\\AppData\\Local\\Temp\\ipykernel_54116\\3659823727.py:14: SettingWithCopyWarning: \n",
      "A value is trying to be set on a copy of a slice from a DataFrame.\n",
      "Try using .loc[row_indexer,col_indexer] = value instead\n",
      "\n",
      "See the caveats in the documentation: https://pandas.pydata.org/pandas-docs/stable/user_guide/indexing.html#returning-a-view-versus-a-copy\n",
      "  test[col1 + '__' + col2] = test[col1 + '__' + col2].astype('category')\n",
      "C:\\Users\\risha_l\\AppData\\Local\\Temp\\ipykernel_54116\\3659823727.py:13: SettingWithCopyWarning: \n",
      "A value is trying to be set on a copy of a slice from a DataFrame.\n",
      "Try using .loc[row_indexer,col_indexer] = value instead\n",
      "\n",
      "See the caveats in the documentation: https://pandas.pydata.org/pandas-docs/stable/user_guide/indexing.html#returning-a-view-versus-a-copy\n",
      "  test[col1 + '__' + col2] = test[col1].astype(str) + test[col2].astype(str)\n",
      "C:\\Users\\risha_l\\AppData\\Local\\Temp\\ipykernel_54116\\3659823727.py:14: SettingWithCopyWarning: \n",
      "A value is trying to be set on a copy of a slice from a DataFrame.\n",
      "Try using .loc[row_indexer,col_indexer] = value instead\n",
      "\n",
      "See the caveats in the documentation: https://pandas.pydata.org/pandas-docs/stable/user_guide/indexing.html#returning-a-view-versus-a-copy\n",
      "  test[col1 + '__' + col2] = test[col1 + '__' + col2].astype('category')\n",
      "C:\\Users\\risha_l\\AppData\\Local\\Temp\\ipykernel_54116\\3659823727.py:13: SettingWithCopyWarning: \n",
      "A value is trying to be set on a copy of a slice from a DataFrame.\n",
      "Try using .loc[row_indexer,col_indexer] = value instead\n",
      "\n",
      "See the caveats in the documentation: https://pandas.pydata.org/pandas-docs/stable/user_guide/indexing.html#returning-a-view-versus-a-copy\n",
      "  test[col1 + '__' + col2] = test[col1].astype(str) + test[col2].astype(str)\n",
      "C:\\Users\\risha_l\\AppData\\Local\\Temp\\ipykernel_54116\\3659823727.py:14: SettingWithCopyWarning: \n",
      "A value is trying to be set on a copy of a slice from a DataFrame.\n",
      "Try using .loc[row_indexer,col_indexer] = value instead\n",
      "\n",
      "See the caveats in the documentation: https://pandas.pydata.org/pandas-docs/stable/user_guide/indexing.html#returning-a-view-versus-a-copy\n",
      "  test[col1 + '__' + col2] = test[col1 + '__' + col2].astype('category')\n",
      "C:\\Users\\risha_l\\AppData\\Local\\Temp\\ipykernel_54116\\3659823727.py:13: SettingWithCopyWarning: \n",
      "A value is trying to be set on a copy of a slice from a DataFrame.\n",
      "Try using .loc[row_indexer,col_indexer] = value instead\n",
      "\n",
      "See the caveats in the documentation: https://pandas.pydata.org/pandas-docs/stable/user_guide/indexing.html#returning-a-view-versus-a-copy\n",
      "  test[col1 + '__' + col2] = test[col1].astype(str) + test[col2].astype(str)\n",
      "C:\\Users\\risha_l\\AppData\\Local\\Temp\\ipykernel_54116\\3659823727.py:14: SettingWithCopyWarning: \n",
      "A value is trying to be set on a copy of a slice from a DataFrame.\n",
      "Try using .loc[row_indexer,col_indexer] = value instead\n",
      "\n",
      "See the caveats in the documentation: https://pandas.pydata.org/pandas-docs/stable/user_guide/indexing.html#returning-a-view-versus-a-copy\n",
      "  test[col1 + '__' + col2] = test[col1 + '__' + col2].astype('category')\n",
      "C:\\Users\\risha_l\\AppData\\Local\\Temp\\ipykernel_54116\\3659823727.py:13: SettingWithCopyWarning: \n",
      "A value is trying to be set on a copy of a slice from a DataFrame.\n",
      "Try using .loc[row_indexer,col_indexer] = value instead\n",
      "\n",
      "See the caveats in the documentation: https://pandas.pydata.org/pandas-docs/stable/user_guide/indexing.html#returning-a-view-versus-a-copy\n",
      "  test[col1 + '__' + col2] = test[col1].astype(str) + test[col2].astype(str)\n",
      "C:\\Users\\risha_l\\AppData\\Local\\Temp\\ipykernel_54116\\3659823727.py:14: SettingWithCopyWarning: \n",
      "A value is trying to be set on a copy of a slice from a DataFrame.\n",
      "Try using .loc[row_indexer,col_indexer] = value instead\n",
      "\n",
      "See the caveats in the documentation: https://pandas.pydata.org/pandas-docs/stable/user_guide/indexing.html#returning-a-view-versus-a-copy\n",
      "  test[col1 + '__' + col2] = test[col1 + '__' + col2].astype('category')\n",
      "C:\\Users\\risha_l\\AppData\\Local\\Temp\\ipykernel_54116\\3659823727.py:13: SettingWithCopyWarning: \n",
      "A value is trying to be set on a copy of a slice from a DataFrame.\n",
      "Try using .loc[row_indexer,col_indexer] = value instead\n",
      "\n",
      "See the caveats in the documentation: https://pandas.pydata.org/pandas-docs/stable/user_guide/indexing.html#returning-a-view-versus-a-copy\n",
      "  test[col1 + '__' + col2] = test[col1].astype(str) + test[col2].astype(str)\n",
      "C:\\Users\\risha_l\\AppData\\Local\\Temp\\ipykernel_54116\\3659823727.py:14: SettingWithCopyWarning: \n",
      "A value is trying to be set on a copy of a slice from a DataFrame.\n",
      "Try using .loc[row_indexer,col_indexer] = value instead\n",
      "\n",
      "See the caveats in the documentation: https://pandas.pydata.org/pandas-docs/stable/user_guide/indexing.html#returning-a-view-versus-a-copy\n",
      "  test[col1 + '__' + col2] = test[col1 + '__' + col2].astype('category')\n",
      "C:\\Users\\risha_l\\AppData\\Local\\Temp\\ipykernel_54116\\3659823727.py:13: SettingWithCopyWarning: \n",
      "A value is trying to be set on a copy of a slice from a DataFrame.\n",
      "Try using .loc[row_indexer,col_indexer] = value instead\n",
      "\n",
      "See the caveats in the documentation: https://pandas.pydata.org/pandas-docs/stable/user_guide/indexing.html#returning-a-view-versus-a-copy\n",
      "  test[col1 + '__' + col2] = test[col1].astype(str) + test[col2].astype(str)\n",
      "C:\\Users\\risha_l\\AppData\\Local\\Temp\\ipykernel_54116\\3659823727.py:14: SettingWithCopyWarning: \n",
      "A value is trying to be set on a copy of a slice from a DataFrame.\n",
      "Try using .loc[row_indexer,col_indexer] = value instead\n",
      "\n",
      "See the caveats in the documentation: https://pandas.pydata.org/pandas-docs/stable/user_guide/indexing.html#returning-a-view-versus-a-copy\n",
      "  test[col1 + '__' + col2] = test[col1 + '__' + col2].astype('category')\n",
      "C:\\Users\\risha_l\\AppData\\Local\\Temp\\ipykernel_54116\\3659823727.py:13: SettingWithCopyWarning: \n",
      "A value is trying to be set on a copy of a slice from a DataFrame.\n",
      "Try using .loc[row_indexer,col_indexer] = value instead\n",
      "\n",
      "See the caveats in the documentation: https://pandas.pydata.org/pandas-docs/stable/user_guide/indexing.html#returning-a-view-versus-a-copy\n",
      "  test[col1 + '__' + col2] = test[col1].astype(str) + test[col2].astype(str)\n",
      "C:\\Users\\risha_l\\AppData\\Local\\Temp\\ipykernel_54116\\3659823727.py:14: SettingWithCopyWarning: \n",
      "A value is trying to be set on a copy of a slice from a DataFrame.\n",
      "Try using .loc[row_indexer,col_indexer] = value instead\n",
      "\n",
      "See the caveats in the documentation: https://pandas.pydata.org/pandas-docs/stable/user_guide/indexing.html#returning-a-view-versus-a-copy\n",
      "  test[col1 + '__' + col2] = test[col1 + '__' + col2].astype('category')\n",
      "C:\\Users\\risha_l\\AppData\\Local\\Temp\\ipykernel_54116\\3659823727.py:13: SettingWithCopyWarning: \n",
      "A value is trying to be set on a copy of a slice from a DataFrame.\n",
      "Try using .loc[row_indexer,col_indexer] = value instead\n",
      "\n",
      "See the caveats in the documentation: https://pandas.pydata.org/pandas-docs/stable/user_guide/indexing.html#returning-a-view-versus-a-copy\n",
      "  test[col1 + '__' + col2] = test[col1].astype(str) + test[col2].astype(str)\n",
      "C:\\Users\\risha_l\\AppData\\Local\\Temp\\ipykernel_54116\\3659823727.py:14: SettingWithCopyWarning: \n",
      "A value is trying to be set on a copy of a slice from a DataFrame.\n",
      "Try using .loc[row_indexer,col_indexer] = value instead\n",
      "\n",
      "See the caveats in the documentation: https://pandas.pydata.org/pandas-docs/stable/user_guide/indexing.html#returning-a-view-versus-a-copy\n",
      "  test[col1 + '__' + col2] = test[col1 + '__' + col2].astype('category')\n"
     ]
    }
   ],
   "source": [
    "more_cat_cols = []\n",
    "add_cat_feats = [\n",
    " 'Census_OSBuildRevision',\n",
    " 'OsBuildLab',\n",
    " 'SmartScreen',\n",
    "'AVProductsInstalled']\n",
    "for col1 in add_cat_feats:\n",
    "    for col2 in add_cat_feats:\n",
    "        if col1 != col2:\n",
    "            train[col1 + '__' + col2] = train[col1].astype(str) + train[col2].astype(str)\n",
    "            train[col1 + '__' + col2] = train[col1 + '__' + col2].astype('category')\n",
    "            \n",
    "            test[col1 + '__' + col2] = test[col1].astype(str) + test[col2].astype(str)\n",
    "            test[col1 + '__' + col2] = test[col1 + '__' + col2].astype('category')\n",
    "            more_cat_cols.append(col1 + '__' + col2)\n",
    "            \n",
    "cat_cols = cat_cols + more_cat_cols"
   ]
  },
  {
   "cell_type": "code",
   "execution_count": 198,
   "metadata": {},
   "outputs": [
    {
     "name": "stdout",
     "output_type": "stream",
     "text": [
      "object\n"
     ]
    },
    {
     "name": "stderr",
     "output_type": "stream",
     "text": [
      "C:\\Users\\risha_l\\AppData\\Local\\Temp\\ipykernel_54116\\51846927.py:7: SettingWithCopyWarning: \n",
      "A value is trying to be set on a copy of a slice from a DataFrame.\n",
      "Try using .loc[row_indexer,col_indexer] = value instead\n",
      "\n",
      "See the caveats in the documentation: https://pandas.pydata.org/pandas-docs/stable/user_guide/indexing.html#returning-a-view-versus-a-copy\n",
      "  test['EngineVersion']= test['EngineVersion'].astype('category')\n",
      "C:\\Users\\risha_l\\AppData\\Local\\Temp\\ipykernel_54116\\51846927.py:9: SettingWithCopyWarning: \n",
      "A value is trying to be set on a copy of a slice from a DataFrame.\n",
      "Try using .loc[row_indexer,col_indexer] = value instead\n",
      "\n",
      "See the caveats in the documentation: https://pandas.pydata.org/pandas-docs/stable/user_guide/indexing.html#returning-a-view-versus-a-copy\n",
      "  test['AppVersion']= test['AppVersion'].astype('category')\n",
      "C:\\Users\\risha_l\\AppData\\Local\\Temp\\ipykernel_54116\\51846927.py:11: SettingWithCopyWarning: \n",
      "A value is trying to be set on a copy of a slice from a DataFrame.\n",
      "Try using .loc[row_indexer,col_indexer] = value instead\n",
      "\n",
      "See the caveats in the documentation: https://pandas.pydata.org/pandas-docs/stable/user_guide/indexing.html#returning-a-view-versus-a-copy\n",
      "  test['AvSigVersion']= test['AvSigVersion'].astype('category')\n"
     ]
    },
    {
     "name": "stdout",
     "output_type": "stream",
     "text": [
      "AvSigVersion is in cat_cols\n",
      "AvSigVersion 7865\n",
      "AVProductStatesIdentifier 10562\n",
      "CityIdentifier 50235\n",
      "Census_OEMNameIdentifier 1831\n",
      "Census_OEMModelIdentifier 63312\n",
      "Census_ProcessorModelIdentifier 2276\n",
      "Census_InternalBatteryNumberOfCharges 10595\n",
      "Census_FirmwareVersionIdentifier 27956\n",
      "AvSigVersion_2 2593\n",
      "Census_OSBuildRevision__OsBuildLab 5806\n",
      "Census_OSBuildRevision__SmartScreen 1125\n",
      "OsBuildLab__Census_OSBuildRevision 5806\n",
      "OsBuildLab__SmartScreen 1265\n",
      "OsBuildLab__AVProductsInstalled 1036\n",
      "SmartScreen__Census_OSBuildRevision 1125\n",
      "SmartScreen__OsBuildLab 1265\n",
      "AVProductsInstalled__OsBuildLab 1036\n"
     ]
    }
   ],
   "source": [
    "\n",
    "to_encode = []\n",
    "#print all the columns which have data types as category\n",
    "#\n",
    " \n",
    "print(train['EngineVersion'].dtype)\n",
    "train['EngineVersion']= train['EngineVersion'].astype('category')\n",
    "test['EngineVersion']= test['EngineVersion'].astype('category')\n",
    "train['AppVersion']= train['AppVersion'].astype('category')\n",
    "test['AppVersion']= test['AppVersion'].astype('category')\n",
    "train['AvSigVersion']= train['AvSigVersion'].astype('category')\n",
    "test['AvSigVersion']= test['AvSigVersion'].astype('category')\n",
    "cat_cols = [col for col in train.columns if col not in ['MachineIdentifier', 'Census_SystemVolumeTotalCapacity', 'HasDetections'] and str(train[col].dtype) == 'category']\n",
    "if('AvSigVersion' in cat_cols):\n",
    "    print(\"AvSigVersion is in cat_cols\")\n",
    "for col in cat_cols:\n",
    "    if train[col].nunique() > 1000:\n",
    "        print(col, train[col].nunique())\n",
    "        to_encode.append(col)"
   ]
  },
  {
   "cell_type": "code",
   "execution_count": 199,
   "metadata": {},
   "outputs": [
    {
     "name": "stdout",
     "output_type": "stream",
     "text": [
      "['AvSigVersion', 'AVProductStatesIdentifier', 'CityIdentifier', 'Census_OEMNameIdentifier', 'Census_OEMModelIdentifier', 'Census_ProcessorModelIdentifier', 'Census_InternalBatteryNumberOfCharges', 'Census_FirmwareVersionIdentifier', 'AvSigVersion_2', 'Census_OSBuildRevision__OsBuildLab', 'Census_OSBuildRevision__SmartScreen', 'OsBuildLab__Census_OSBuildRevision', 'OsBuildLab__SmartScreen', 'OsBuildLab__AVProductsInstalled', 'SmartScreen__Census_OSBuildRevision', 'SmartScreen__OsBuildLab', 'AVProductsInstalled__OsBuildLab']\n"
     ]
    },
    {
     "name": "stderr",
     "output_type": "stream",
     "text": [
      "C:\\Users\\risha_l\\AppData\\Local\\Temp\\ipykernel_54116\\1381653301.py:6: SettingWithCopyWarning: \n",
      "A value is trying to be set on a copy of a slice from a DataFrame.\n",
      "Try using .loc[row_indexer,col_indexer] = value instead\n",
      "\n",
      "See the caveats in the documentation: https://pandas.pydata.org/pandas-docs/stable/user_guide/indexing.html#returning-a-view-versus-a-copy\n",
      "  test[col + '_freq'] = test[col].map(freq_enc)\n",
      "C:\\Users\\risha_l\\AppData\\Local\\Temp\\ipykernel_54116\\1381653301.py:6: SettingWithCopyWarning: \n",
      "A value is trying to be set on a copy of a slice from a DataFrame.\n",
      "Try using .loc[row_indexer,col_indexer] = value instead\n",
      "\n",
      "See the caveats in the documentation: https://pandas.pydata.org/pandas-docs/stable/user_guide/indexing.html#returning-a-view-versus-a-copy\n",
      "  test[col + '_freq'] = test[col].map(freq_enc)\n",
      "C:\\Users\\risha_l\\AppData\\Local\\Temp\\ipykernel_54116\\1381653301.py:6: SettingWithCopyWarning: \n",
      "A value is trying to be set on a copy of a slice from a DataFrame.\n",
      "Try using .loc[row_indexer,col_indexer] = value instead\n",
      "\n",
      "See the caveats in the documentation: https://pandas.pydata.org/pandas-docs/stable/user_guide/indexing.html#returning-a-view-versus-a-copy\n",
      "  test[col + '_freq'] = test[col].map(freq_enc)\n",
      "C:\\Users\\risha_l\\AppData\\Local\\Temp\\ipykernel_54116\\1381653301.py:6: SettingWithCopyWarning: \n",
      "A value is trying to be set on a copy of a slice from a DataFrame.\n",
      "Try using .loc[row_indexer,col_indexer] = value instead\n",
      "\n",
      "See the caveats in the documentation: https://pandas.pydata.org/pandas-docs/stable/user_guide/indexing.html#returning-a-view-versus-a-copy\n",
      "  test[col + '_freq'] = test[col].map(freq_enc)\n",
      "C:\\Users\\risha_l\\AppData\\Local\\Temp\\ipykernel_54116\\1381653301.py:6: SettingWithCopyWarning: \n",
      "A value is trying to be set on a copy of a slice from a DataFrame.\n",
      "Try using .loc[row_indexer,col_indexer] = value instead\n",
      "\n",
      "See the caveats in the documentation: https://pandas.pydata.org/pandas-docs/stable/user_guide/indexing.html#returning-a-view-versus-a-copy\n",
      "  test[col + '_freq'] = test[col].map(freq_enc)\n",
      "C:\\Users\\risha_l\\AppData\\Local\\Temp\\ipykernel_54116\\1381653301.py:6: SettingWithCopyWarning: \n",
      "A value is trying to be set on a copy of a slice from a DataFrame.\n",
      "Try using .loc[row_indexer,col_indexer] = value instead\n",
      "\n",
      "See the caveats in the documentation: https://pandas.pydata.org/pandas-docs/stable/user_guide/indexing.html#returning-a-view-versus-a-copy\n",
      "  test[col + '_freq'] = test[col].map(freq_enc)\n",
      "C:\\Users\\risha_l\\AppData\\Local\\Temp\\ipykernel_54116\\1381653301.py:6: SettingWithCopyWarning: \n",
      "A value is trying to be set on a copy of a slice from a DataFrame.\n",
      "Try using .loc[row_indexer,col_indexer] = value instead\n",
      "\n",
      "See the caveats in the documentation: https://pandas.pydata.org/pandas-docs/stable/user_guide/indexing.html#returning-a-view-versus-a-copy\n",
      "  test[col + '_freq'] = test[col].map(freq_enc)\n",
      "C:\\Users\\risha_l\\AppData\\Local\\Temp\\ipykernel_54116\\1381653301.py:6: SettingWithCopyWarning: \n",
      "A value is trying to be set on a copy of a slice from a DataFrame.\n",
      "Try using .loc[row_indexer,col_indexer] = value instead\n",
      "\n",
      "See the caveats in the documentation: https://pandas.pydata.org/pandas-docs/stable/user_guide/indexing.html#returning-a-view-versus-a-copy\n",
      "  test[col + '_freq'] = test[col].map(freq_enc)\n",
      "C:\\Users\\risha_l\\AppData\\Local\\Temp\\ipykernel_54116\\1381653301.py:6: SettingWithCopyWarning: \n",
      "A value is trying to be set on a copy of a slice from a DataFrame.\n",
      "Try using .loc[row_indexer,col_indexer] = value instead\n",
      "\n",
      "See the caveats in the documentation: https://pandas.pydata.org/pandas-docs/stable/user_guide/indexing.html#returning-a-view-versus-a-copy\n",
      "  test[col + '_freq'] = test[col].map(freq_enc)\n",
      "C:\\Users\\risha_l\\AppData\\Local\\Temp\\ipykernel_54116\\1381653301.py:6: SettingWithCopyWarning: \n",
      "A value is trying to be set on a copy of a slice from a DataFrame.\n",
      "Try using .loc[row_indexer,col_indexer] = value instead\n",
      "\n",
      "See the caveats in the documentation: https://pandas.pydata.org/pandas-docs/stable/user_guide/indexing.html#returning-a-view-versus-a-copy\n",
      "  test[col + '_freq'] = test[col].map(freq_enc)\n",
      "C:\\Users\\risha_l\\AppData\\Local\\Temp\\ipykernel_54116\\1381653301.py:6: SettingWithCopyWarning: \n",
      "A value is trying to be set on a copy of a slice from a DataFrame.\n",
      "Try using .loc[row_indexer,col_indexer] = value instead\n",
      "\n",
      "See the caveats in the documentation: https://pandas.pydata.org/pandas-docs/stable/user_guide/indexing.html#returning-a-view-versus-a-copy\n",
      "  test[col + '_freq'] = test[col].map(freq_enc)\n",
      "C:\\Users\\risha_l\\AppData\\Local\\Temp\\ipykernel_54116\\1381653301.py:6: SettingWithCopyWarning: \n",
      "A value is trying to be set on a copy of a slice from a DataFrame.\n",
      "Try using .loc[row_indexer,col_indexer] = value instead\n",
      "\n",
      "See the caveats in the documentation: https://pandas.pydata.org/pandas-docs/stable/user_guide/indexing.html#returning-a-view-versus-a-copy\n",
      "  test[col + '_freq'] = test[col].map(freq_enc)\n",
      "C:\\Users\\risha_l\\AppData\\Local\\Temp\\ipykernel_54116\\1381653301.py:6: SettingWithCopyWarning: \n",
      "A value is trying to be set on a copy of a slice from a DataFrame.\n",
      "Try using .loc[row_indexer,col_indexer] = value instead\n",
      "\n",
      "See the caveats in the documentation: https://pandas.pydata.org/pandas-docs/stable/user_guide/indexing.html#returning-a-view-versus-a-copy\n",
      "  test[col + '_freq'] = test[col].map(freq_enc)\n",
      "C:\\Users\\risha_l\\AppData\\Local\\Temp\\ipykernel_54116\\1381653301.py:6: SettingWithCopyWarning: \n",
      "A value is trying to be set on a copy of a slice from a DataFrame.\n",
      "Try using .loc[row_indexer,col_indexer] = value instead\n",
      "\n",
      "See the caveats in the documentation: https://pandas.pydata.org/pandas-docs/stable/user_guide/indexing.html#returning-a-view-versus-a-copy\n",
      "  test[col + '_freq'] = test[col].map(freq_enc)\n",
      "C:\\Users\\risha_l\\AppData\\Local\\Temp\\ipykernel_54116\\1381653301.py:6: SettingWithCopyWarning: \n",
      "A value is trying to be set on a copy of a slice from a DataFrame.\n",
      "Try using .loc[row_indexer,col_indexer] = value instead\n",
      "\n",
      "See the caveats in the documentation: https://pandas.pydata.org/pandas-docs/stable/user_guide/indexing.html#returning-a-view-versus-a-copy\n",
      "  test[col + '_freq'] = test[col].map(freq_enc)\n",
      "C:\\Users\\risha_l\\AppData\\Local\\Temp\\ipykernel_54116\\1381653301.py:6: SettingWithCopyWarning: \n",
      "A value is trying to be set on a copy of a slice from a DataFrame.\n",
      "Try using .loc[row_indexer,col_indexer] = value instead\n",
      "\n",
      "See the caveats in the documentation: https://pandas.pydata.org/pandas-docs/stable/user_guide/indexing.html#returning-a-view-versus-a-copy\n",
      "  test[col + '_freq'] = test[col].map(freq_enc)\n",
      "C:\\Users\\risha_l\\AppData\\Local\\Temp\\ipykernel_54116\\1381653301.py:6: SettingWithCopyWarning: \n",
      "A value is trying to be set on a copy of a slice from a DataFrame.\n",
      "Try using .loc[row_indexer,col_indexer] = value instead\n",
      "\n",
      "See the caveats in the documentation: https://pandas.pydata.org/pandas-docs/stable/user_guide/indexing.html#returning-a-view-versus-a-copy\n",
      "  test[col + '_freq'] = test[col].map(freq_enc)\n"
     ]
    }
   ],
   "source": [
    "#do a frequency encoding of to_encode columns \n",
    "print(to_encode)\n",
    "for col in to_encode:\n",
    "    freq_enc = train[col].value_counts(dropna=False).to_dict()\n",
    "    train[col + '_freq'] = train[col].map(freq_enc)\n",
    "    test[col + '_freq'] = test[col].map(freq_enc)\n",
    "    cat_cols.remove(col)\n",
    "    cat_cols.append(col + '_freq')"
   ]
  },
  {
   "cell_type": "code",
   "execution_count": 200,
   "metadata": {},
   "outputs": [
    {
     "name": "stderr",
     "output_type": "stream",
     "text": [
      "C:\\Users\\risha_l\\AppData\\Local\\Temp\\ipykernel_54116\\3825454091.py:4: SettingWithCopyWarning: \n",
      "A value is trying to be set on a copy of a slice from a DataFrame\n",
      "\n",
      "See the caveats in the documentation: https://pandas.pydata.org/pandas-docs/stable/user_guide/indexing.html#returning-a-view-versus-a-copy\n",
      "  test.drop(columns=['MachineIdentifier'], inplace=True)\n"
     ]
    }
   ],
   "source": [
    "#search for categorical columns in train and test data and use label encoding in them \n",
    "train.head()\n",
    "train.drop(columns=['MachineIdentifier'], inplace=True)\n",
    "test.drop(columns=['MachineIdentifier'], inplace=True)"
   ]
  },
  {
   "cell_type": "code",
   "execution_count": 201,
   "metadata": {},
   "outputs": [
    {
     "name": "stderr",
     "output_type": "stream",
     "text": [
      "C:\\Users\\risha_l\\AppData\\Local\\Temp\\ipykernel_54116\\216551669.py:6: SettingWithCopyWarning: \n",
      "A value is trying to be set on a copy of a slice from a DataFrame\n",
      "\n",
      "See the caveats in the documentation: https://pandas.pydata.org/pandas-docs/stable/user_guide/indexing.html#returning-a-view-versus-a-copy\n",
      "  test.drop(columns=['AvSigVersion'], inplace=True)\n",
      "C:\\Users\\risha_l\\AppData\\Local\\Temp\\ipykernel_54116\\216551669.py:10: SettingWithCopyWarning: \n",
      "A value is trying to be set on a copy of a slice from a DataFrame\n",
      "\n",
      "See the caveats in the documentation: https://pandas.pydata.org/pandas-docs/stable/user_guide/indexing.html#returning-a-view-versus-a-copy\n",
      "  test.drop(columns=['AppVersion'], inplace=True)\n",
      "C:\\Users\\risha_l\\AppData\\Local\\Temp\\ipykernel_54116\\216551669.py:14: SettingWithCopyWarning: \n",
      "A value is trying to be set on a copy of a slice from a DataFrame\n",
      "\n",
      "See the caveats in the documentation: https://pandas.pydata.org/pandas-docs/stable/user_guide/indexing.html#returning-a-view-versus-a-copy\n",
      "  test.drop(columns=['EngineVersion'], inplace=True)\n"
     ]
    }
   ],
   "source": [
    "train.head()\n",
    "if('AvSigVersion' in train.columns):\n",
    "    \n",
    "    train.drop(columns=['AvSigVersion'], inplace=True)\n",
    "if('AvSigVersion' in test.columns):\n",
    "    test.drop(columns=['AvSigVersion'], inplace=True)\n",
    "if 'AppVersion' in train.columns:\n",
    "    train.drop(columns=['AppVersion'], inplace=True)\n",
    "if 'AppVersion' in test.columns:\n",
    "    test.drop(columns=['AppVersion'], inplace=True)\n",
    "if 'EngineVersion' in train.columns:\n",
    "    train.drop(columns=['EngineVersion'], inplace=True)\n",
    "if 'EngineVersion' in test.columns:\n",
    "    test.drop(columns=['EngineVersion'], inplace=True)"
   ]
  },
  {
   "cell_type": "code",
   "execution_count": 202,
   "metadata": {},
   "outputs": [
    {
     "data": {
      "text/html": [
       "<div>\n",
       "<style scoped>\n",
       "    .dataframe tbody tr th:only-of-type {\n",
       "        vertical-align: middle;\n",
       "    }\n",
       "\n",
       "    .dataframe tbody tr th {\n",
       "        vertical-align: top;\n",
       "    }\n",
       "\n",
       "    .dataframe thead th {\n",
       "        text-align: right;\n",
       "    }\n",
       "</style>\n",
       "<table border=\"1\" class=\"dataframe\">\n",
       "  <thead>\n",
       "    <tr style=\"text-align: right;\">\n",
       "      <th></th>\n",
       "      <th>AVProductStatesIdentifier</th>\n",
       "      <th>AVProductsInstalled</th>\n",
       "      <th>CountryIdentifier</th>\n",
       "      <th>CityIdentifier</th>\n",
       "      <th>OrganizationIdentifier</th>\n",
       "      <th>GeoNameIdentifier</th>\n",
       "      <th>LocaleEnglishNameIdentifier</th>\n",
       "      <th>OsBuild</th>\n",
       "      <th>OsSuite</th>\n",
       "      <th>OsPlatformSubRelease</th>\n",
       "      <th>...</th>\n",
       "      <th>Census_FirmwareVersionIdentifier_freq</th>\n",
       "      <th>AvSigVersion_2_freq</th>\n",
       "      <th>Census_OSBuildRevision__OsBuildLab_freq</th>\n",
       "      <th>Census_OSBuildRevision__SmartScreen_freq</th>\n",
       "      <th>OsBuildLab__Census_OSBuildRevision_freq</th>\n",
       "      <th>OsBuildLab__SmartScreen_freq</th>\n",
       "      <th>OsBuildLab__AVProductsInstalled_freq</th>\n",
       "      <th>SmartScreen__Census_OSBuildRevision_freq</th>\n",
       "      <th>SmartScreen__OsBuildLab_freq</th>\n",
       "      <th>AVProductsInstalled__OsBuildLab_freq</th>\n",
       "    </tr>\n",
       "  </thead>\n",
       "  <tbody>\n",
       "    <tr>\n",
       "      <th>2088093</th>\n",
       "      <td>47238.0</td>\n",
       "      <td>2.0</td>\n",
       "      <td>62</td>\n",
       "      <td>118260.0</td>\n",
       "      <td>27.0</td>\n",
       "      <td>88.0</td>\n",
       "      <td>80</td>\n",
       "      <td>14393</td>\n",
       "      <td>768</td>\n",
       "      <td>rs1</td>\n",
       "      <td>...</td>\n",
       "      <td>6213</td>\n",
       "      <td>786</td>\n",
       "      <td>3189</td>\n",
       "      <td>3398</td>\n",
       "      <td>3189</td>\n",
       "      <td>2868</td>\n",
       "      <td>1262</td>\n",
       "      <td>3398</td>\n",
       "      <td>2868</td>\n",
       "      <td>1262</td>\n",
       "    </tr>\n",
       "    <tr>\n",
       "      <th>1943665</th>\n",
       "      <td>53447.0</td>\n",
       "      <td>1.0</td>\n",
       "      <td>220</td>\n",
       "      <td>24282.0</td>\n",
       "      <td>27.0</td>\n",
       "      <td>237.0</td>\n",
       "      <td>72</td>\n",
       "      <td>17134</td>\n",
       "      <td>256</td>\n",
       "      <td>rs4</td>\n",
       "      <td>...</td>\n",
       "      <td>866</td>\n",
       "      <td>7126</td>\n",
       "      <td>152</td>\n",
       "      <td>6510</td>\n",
       "      <td>152</td>\n",
       "      <td>90083</td>\n",
       "      <td>265225</td>\n",
       "      <td>6510</td>\n",
       "      <td>90083</td>\n",
       "      <td>265225</td>\n",
       "    </tr>\n",
       "    <tr>\n",
       "      <th>3659700</th>\n",
       "      <td>53447.0</td>\n",
       "      <td>1.0</td>\n",
       "      <td>141</td>\n",
       "      <td>66620.0</td>\n",
       "      <td>27.0</td>\n",
       "      <td>167.0</td>\n",
       "      <td>227</td>\n",
       "      <td>16299</td>\n",
       "      <td>768</td>\n",
       "      <td>rs3</td>\n",
       "      <td>...</td>\n",
       "      <td>2514</td>\n",
       "      <td>5427</td>\n",
       "      <td>50917</td>\n",
       "      <td>44462</td>\n",
       "      <td>50917</td>\n",
       "      <td>105664</td>\n",
       "      <td>95182</td>\n",
       "      <td>44462</td>\n",
       "      <td>105664</td>\n",
       "      <td>95182</td>\n",
       "    </tr>\n",
       "    <tr>\n",
       "      <th>2301939</th>\n",
       "      <td>53447.0</td>\n",
       "      <td>1.0</td>\n",
       "      <td>29</td>\n",
       "      <td>14277.0</td>\n",
       "      <td>18.0</td>\n",
       "      <td>35.0</td>\n",
       "      <td>171</td>\n",
       "      <td>17134</td>\n",
       "      <td>256</td>\n",
       "      <td>rs4</td>\n",
       "      <td>...</td>\n",
       "      <td>5</td>\n",
       "      <td>3692</td>\n",
       "      <td>43489</td>\n",
       "      <td>1388</td>\n",
       "      <td>43489</td>\n",
       "      <td>15902</td>\n",
       "      <td>265225</td>\n",
       "      <td>1388</td>\n",
       "      <td>15902</td>\n",
       "      <td>265225</td>\n",
       "    </tr>\n",
       "    <tr>\n",
       "      <th>3167310</th>\n",
       "      <td>53447.0</td>\n",
       "      <td>1.0</td>\n",
       "      <td>68</td>\n",
       "      <td>22544.0</td>\n",
       "      <td>27.0</td>\n",
       "      <td>276.0</td>\n",
       "      <td>74</td>\n",
       "      <td>17134</td>\n",
       "      <td>256</td>\n",
       "      <td>rs4</td>\n",
       "      <td>...</td>\n",
       "      <td>2859</td>\n",
       "      <td>3831</td>\n",
       "      <td>8170</td>\n",
       "      <td>5930</td>\n",
       "      <td>8170</td>\n",
       "      <td>285549</td>\n",
       "      <td>265225</td>\n",
       "      <td>5930</td>\n",
       "      <td>285549</td>\n",
       "      <td>265225</td>\n",
       "    </tr>\n",
       "  </tbody>\n",
       "</table>\n",
       "<p>5 rows × 108 columns</p>\n",
       "</div>"
      ],
      "text/plain": [
       "        AVProductStatesIdentifier  AVProductsInstalled CountryIdentifier  \\\n",
       "2088093                   47238.0                  2.0                62   \n",
       "1943665                   53447.0                  1.0               220   \n",
       "3659700                   53447.0                  1.0               141   \n",
       "2301939                   53447.0                  1.0                29   \n",
       "3167310                   53447.0                  1.0                68   \n",
       "\n",
       "        CityIdentifier OrganizationIdentifier GeoNameIdentifier  \\\n",
       "2088093       118260.0                   27.0              88.0   \n",
       "1943665        24282.0                   27.0             237.0   \n",
       "3659700        66620.0                   27.0             167.0   \n",
       "2301939        14277.0                   18.0              35.0   \n",
       "3167310        22544.0                   27.0             276.0   \n",
       "\n",
       "        LocaleEnglishNameIdentifier OsBuild OsSuite OsPlatformSubRelease  ...  \\\n",
       "2088093                          80   14393     768                  rs1  ...   \n",
       "1943665                          72   17134     256                  rs4  ...   \n",
       "3659700                         227   16299     768                  rs3  ...   \n",
       "2301939                         171   17134     256                  rs4  ...   \n",
       "3167310                          74   17134     256                  rs4  ...   \n",
       "\n",
       "        Census_FirmwareVersionIdentifier_freq AvSigVersion_2_freq  \\\n",
       "2088093                                  6213                 786   \n",
       "1943665                                   866                7126   \n",
       "3659700                                  2514                5427   \n",
       "2301939                                     5                3692   \n",
       "3167310                                  2859                3831   \n",
       "\n",
       "        Census_OSBuildRevision__OsBuildLab_freq  \\\n",
       "2088093                                    3189   \n",
       "1943665                                     152   \n",
       "3659700                                   50917   \n",
       "2301939                                   43489   \n",
       "3167310                                    8170   \n",
       "\n",
       "        Census_OSBuildRevision__SmartScreen_freq  \\\n",
       "2088093                                     3398   \n",
       "1943665                                     6510   \n",
       "3659700                                    44462   \n",
       "2301939                                     1388   \n",
       "3167310                                     5930   \n",
       "\n",
       "        OsBuildLab__Census_OSBuildRevision_freq OsBuildLab__SmartScreen_freq  \\\n",
       "2088093                                    3189                         2868   \n",
       "1943665                                     152                        90083   \n",
       "3659700                                   50917                       105664   \n",
       "2301939                                   43489                        15902   \n",
       "3167310                                    8170                       285549   \n",
       "\n",
       "        OsBuildLab__AVProductsInstalled_freq  \\\n",
       "2088093                                 1262   \n",
       "1943665                               265225   \n",
       "3659700                                95182   \n",
       "2301939                               265225   \n",
       "3167310                               265225   \n",
       "\n",
       "         SmartScreen__Census_OSBuildRevision_freq  \\\n",
       "2088093                                      3398   \n",
       "1943665                                      6510   \n",
       "3659700                                     44462   \n",
       "2301939                                      1388   \n",
       "3167310                                      5930   \n",
       "\n",
       "         SmartScreen__OsBuildLab_freq AVProductsInstalled__OsBuildLab_freq  \n",
       "2088093                          2868                                 1262  \n",
       "1943665                         90083                               265225  \n",
       "3659700                        105664                                95182  \n",
       "2301939                         15902                               265225  \n",
       "3167310                        285549                               265225  \n",
       "\n",
       "[5 rows x 108 columns]"
      ]
     },
     "execution_count": 202,
     "metadata": {},
     "output_type": "execute_result"
    }
   ],
   "source": [
    "train.head()"
   ]
  },
  {
   "cell_type": "code",
   "execution_count": 207,
   "metadata": {},
   "outputs": [
    {
     "name": "stderr",
     "output_type": "stream",
     "text": [
      "C:\\Users\\risha_l\\AppData\\Local\\Temp\\ipykernel_54116\\174029328.py:13: SettingWithCopyWarning: \n",
      "A value is trying to be set on a copy of a slice from a DataFrame.\n",
      "Try using .loc[row_indexer,col_indexer] = value instead\n",
      "\n",
      "See the caveats in the documentation: https://pandas.pydata.org/pandas-docs/stable/user_guide/indexing.html#returning-a-view-versus-a-copy\n",
      "  test[col] = le.transform(test[col])\n",
      "C:\\Users\\risha_l\\AppData\\Local\\Temp\\ipykernel_54116\\174029328.py:13: SettingWithCopyWarning: \n",
      "A value is trying to be set on a copy of a slice from a DataFrame.\n",
      "Try using .loc[row_indexer,col_indexer] = value instead\n",
      "\n",
      "See the caveats in the documentation: https://pandas.pydata.org/pandas-docs/stable/user_guide/indexing.html#returning-a-view-versus-a-copy\n",
      "  test[col] = le.transform(test[col])\n",
      "C:\\Users\\risha_l\\AppData\\Local\\Temp\\ipykernel_54116\\174029328.py:13: SettingWithCopyWarning: \n",
      "A value is trying to be set on a copy of a slice from a DataFrame.\n",
      "Try using .loc[row_indexer,col_indexer] = value instead\n",
      "\n",
      "See the caveats in the documentation: https://pandas.pydata.org/pandas-docs/stable/user_guide/indexing.html#returning-a-view-versus-a-copy\n",
      "  test[col] = le.transform(test[col])\n",
      "C:\\Users\\risha_l\\AppData\\Local\\Temp\\ipykernel_54116\\174029328.py:13: SettingWithCopyWarning: \n",
      "A value is trying to be set on a copy of a slice from a DataFrame.\n",
      "Try using .loc[row_indexer,col_indexer] = value instead\n",
      "\n",
      "See the caveats in the documentation: https://pandas.pydata.org/pandas-docs/stable/user_guide/indexing.html#returning-a-view-versus-a-copy\n",
      "  test[col] = le.transform(test[col])\n",
      "C:\\Users\\risha_l\\AppData\\Local\\Temp\\ipykernel_54116\\174029328.py:13: SettingWithCopyWarning: \n",
      "A value is trying to be set on a copy of a slice from a DataFrame.\n",
      "Try using .loc[row_indexer,col_indexer] = value instead\n",
      "\n",
      "See the caveats in the documentation: https://pandas.pydata.org/pandas-docs/stable/user_guide/indexing.html#returning-a-view-versus-a-copy\n",
      "  test[col] = le.transform(test[col])\n",
      "C:\\Users\\risha_l\\AppData\\Local\\Temp\\ipykernel_54116\\174029328.py:13: SettingWithCopyWarning: \n",
      "A value is trying to be set on a copy of a slice from a DataFrame.\n",
      "Try using .loc[row_indexer,col_indexer] = value instead\n",
      "\n",
      "See the caveats in the documentation: https://pandas.pydata.org/pandas-docs/stable/user_guide/indexing.html#returning-a-view-versus-a-copy\n",
      "  test[col] = le.transform(test[col])\n",
      "C:\\Users\\risha_l\\AppData\\Local\\Temp\\ipykernel_54116\\174029328.py:13: SettingWithCopyWarning: \n",
      "A value is trying to be set on a copy of a slice from a DataFrame.\n",
      "Try using .loc[row_indexer,col_indexer] = value instead\n",
      "\n",
      "See the caveats in the documentation: https://pandas.pydata.org/pandas-docs/stable/user_guide/indexing.html#returning-a-view-versus-a-copy\n",
      "  test[col] = le.transform(test[col])\n",
      "C:\\Users\\risha_l\\AppData\\Local\\Temp\\ipykernel_54116\\174029328.py:13: SettingWithCopyWarning: \n",
      "A value is trying to be set on a copy of a slice from a DataFrame.\n",
      "Try using .loc[row_indexer,col_indexer] = value instead\n",
      "\n",
      "See the caveats in the documentation: https://pandas.pydata.org/pandas-docs/stable/user_guide/indexing.html#returning-a-view-versus-a-copy\n",
      "  test[col] = le.transform(test[col])\n",
      "C:\\Users\\risha_l\\AppData\\Local\\Temp\\ipykernel_54116\\174029328.py:13: SettingWithCopyWarning: \n",
      "A value is trying to be set on a copy of a slice from a DataFrame.\n",
      "Try using .loc[row_indexer,col_indexer] = value instead\n",
      "\n",
      "See the caveats in the documentation: https://pandas.pydata.org/pandas-docs/stable/user_guide/indexing.html#returning-a-view-versus-a-copy\n",
      "  test[col] = le.transform(test[col])\n",
      "C:\\Users\\risha_l\\AppData\\Local\\Temp\\ipykernel_54116\\174029328.py:13: SettingWithCopyWarning: \n",
      "A value is trying to be set on a copy of a slice from a DataFrame.\n",
      "Try using .loc[row_indexer,col_indexer] = value instead\n",
      "\n",
      "See the caveats in the documentation: https://pandas.pydata.org/pandas-docs/stable/user_guide/indexing.html#returning-a-view-versus-a-copy\n",
      "  test[col] = le.transform(test[col])\n",
      "C:\\Users\\risha_l\\AppData\\Local\\Temp\\ipykernel_54116\\174029328.py:13: SettingWithCopyWarning: \n",
      "A value is trying to be set on a copy of a slice from a DataFrame.\n",
      "Try using .loc[row_indexer,col_indexer] = value instead\n",
      "\n",
      "See the caveats in the documentation: https://pandas.pydata.org/pandas-docs/stable/user_guide/indexing.html#returning-a-view-versus-a-copy\n",
      "  test[col] = le.transform(test[col])\n",
      "C:\\Users\\risha_l\\AppData\\Local\\Temp\\ipykernel_54116\\174029328.py:13: SettingWithCopyWarning: \n",
      "A value is trying to be set on a copy of a slice from a DataFrame.\n",
      "Try using .loc[row_indexer,col_indexer] = value instead\n",
      "\n",
      "See the caveats in the documentation: https://pandas.pydata.org/pandas-docs/stable/user_guide/indexing.html#returning-a-view-versus-a-copy\n",
      "  test[col] = le.transform(test[col])\n"
     ]
    },
    {
     "name": "stdout",
     "output_type": "stream",
     "text": [
      "AVProductStatesIdentifier                     int64\n",
      "AVProductsInstalled                         float64\n",
      "CountryIdentifier                             int64\n",
      "CityIdentifier                                int64\n",
      "OrganizationIdentifier                        int64\n",
      "                                             ...   \n",
      "OsBuildLab__SmartScreen_freq                  int64\n",
      "OsBuildLab__AVProductsInstalled_freq          int64\n",
      "SmartScreen__Census_OSBuildRevision_freq      int64\n",
      "SmartScreen__OsBuildLab_freq                  int64\n",
      "AVProductsInstalled__OsBuildLab_freq          int64\n",
      "Length: 108, dtype: object\n",
      "         AVProductStatesIdentifier  AVProductsInstalled  CountryIdentifier  \\\n",
      "2088093                       7558                  2.0                 60   \n",
      "1943665                       8902                  1.0                209   \n",
      "3659700                       8902                  1.0                136   \n",
      "2301939                       8902                  1.0                 27   \n",
      "3167310                       8902                  1.0                 65   \n",
      "\n",
      "         CityIdentifier  OrganizationIdentifier  GeoNameIdentifier  \\\n",
      "2088093           38589                      22                 80   \n",
      "1943665            8073                      22                219   \n",
      "3659700           21741                      22                153   \n",
      "2301939            4887                      14                 31   \n",
      "3167310            7490                      22                256   \n",
      "\n",
      "         LocaleEnglishNameIdentifier  OsBuild  OsSuite  OsPlatformSubRelease  \\\n",
      "2088093                           76        5        1                     1   \n",
      "1943665                           68        9        0                     4   \n",
      "3659700                          213        7        1                     3   \n",
      "2301939                          162        9        0                     4   \n",
      "3167310                           70        9        0                     4   \n",
      "\n",
      "         ...  Census_FirmwareVersionIdentifier_freq  AvSigVersion_2_freq  \\\n",
      "2088093  ...                                   6213                  786   \n",
      "1943665  ...                                    866                 7126   \n",
      "3659700  ...                                   2514                 5427   \n",
      "2301939  ...                                      5                 3692   \n",
      "3167310  ...                                   2859                 3831   \n",
      "\n",
      "         Census_OSBuildRevision__OsBuildLab_freq  \\\n",
      "2088093                                     3189   \n",
      "1943665                                      152   \n",
      "3659700                                    50917   \n",
      "2301939                                    43489   \n",
      "3167310                                     8170   \n",
      "\n",
      "         Census_OSBuildRevision__SmartScreen_freq  \\\n",
      "2088093                                      3398   \n",
      "1943665                                      6510   \n",
      "3659700                                     44462   \n",
      "2301939                                      1388   \n",
      "3167310                                      5930   \n",
      "\n",
      "         OsBuildLab__Census_OSBuildRevision_freq  \\\n",
      "2088093                                     3189   \n",
      "1943665                                      152   \n",
      "3659700                                    50917   \n",
      "2301939                                    43489   \n",
      "3167310                                     8170   \n",
      "\n",
      "         OsBuildLab__SmartScreen_freq  OsBuildLab__AVProductsInstalled_freq  \\\n",
      "2088093                          2868                                  1262   \n",
      "1943665                         90083                                265225   \n",
      "3659700                        105664                                 95182   \n",
      "2301939                         15902                                265225   \n",
      "3167310                        285549                                265225   \n",
      "\n",
      "         SmartScreen__Census_OSBuildRevision_freq  \\\n",
      "2088093                                      3398   \n",
      "1943665                                      6510   \n",
      "3659700                                     44462   \n",
      "2301939                                      1388   \n",
      "3167310                                      5930   \n",
      "\n",
      "         SmartScreen__OsBuildLab_freq  AVProductsInstalled__OsBuildLab_freq  \n",
      "2088093                          2868                                  1262  \n",
      "1943665                         90083                                265225  \n",
      "3659700                        105664                                 95182  \n",
      "2301939                         15902                                265225  \n",
      "3167310                        285549                                265225  \n",
      "\n",
      "[5 rows x 108 columns]\n"
     ]
    },
    {
     "name": "stderr",
     "output_type": "stream",
     "text": [
      "C:\\Users\\risha_l\\AppData\\Local\\Temp\\ipykernel_54116\\174029328.py:13: SettingWithCopyWarning: \n",
      "A value is trying to be set on a copy of a slice from a DataFrame.\n",
      "Try using .loc[row_indexer,col_indexer] = value instead\n",
      "\n",
      "See the caveats in the documentation: https://pandas.pydata.org/pandas-docs/stable/user_guide/indexing.html#returning-a-view-versus-a-copy\n",
      "  test[col] = le.transform(test[col])\n"
     ]
    }
   ],
   "source": [
    "#convert category columns to numbers \n",
    "#print(train.dtypes)\n",
    "#use label encoding for categorical columns\n",
    "from sklearn.preprocessing import LabelEncoder\n",
    "cat_cols = train.select_dtypes(include=['category','string', 'object']).columns\n",
    "for col in cat_cols:\n",
    "      combined = pd.concat([train[col], test[col]], axis=0)\n",
    "      le = LabelEncoder()\n",
    "      le.fit(combined)\n",
    "\n",
    "    # Transform the columns individually\n",
    "      train[col] = le.transform(train[col])\n",
    "      test[col] = le.transform(test[col])\n",
    "#find all columns with category = 'category'\n",
    "#convert them to numbers\n",
    "#use label encoding for categorical columns\n",
    "cat_cols = train.select_dtypes(include=['category']).columns\n",
    "for col in cat_cols:\n",
    "    le = LabelEncoder()\n",
    "\n",
    "    # Step 3: Combine train and test data for fitting\n",
    "    combined = pd.concat([train[col], test[col]], axis=0)\n",
    "\n",
    "    # Fit the encoder on the combined data\n",
    "    le.fit(combined)\n",
    "\n",
    "    # Step 4: Transform train and test data individually\n",
    "    train[col] = le.transform(train[col])\n",
    "    test[col] = le.transform(test[col])\n",
    "\n",
    "print(train.dtypes)\n",
    "print(train.head())"
   ]
  },
  {
   "cell_type": "code",
   "execution_count": 208,
   "metadata": {},
   "outputs": [
    {
     "name": "stdout",
     "output_type": "stream",
     "text": [
      "int32\n"
     ]
    }
   ],
   "source": [
    "train.head()\n",
    "print(train['OsPlatformSubRelease'].dtype)"
   ]
  },
  {
   "cell_type": "code",
   "execution_count": 209,
   "metadata": {},
   "outputs": [],
   "source": [
    "y= train['HasDetections']\n",
    "train = train.drop(['HasDetections'], axis=1)\n",
    "y_test= test['HasDetections']\n",
    "#Make first 80% of the train data as train rest as validation data \n",
    "X_train = train\n",
    "\n",
    "test = test.drop(['HasDetections'], axis=1)\n",
    "X_test = test"
   ]
  },
  {
   "cell_type": "code",
   "execution_count": 210,
   "metadata": {},
   "outputs": [],
   "source": [
    "#import startifiedKFold\n",
    "from sklearn.model_selection import StratifiedKFold\n",
    "n_folds=5\n",
    "folds = StratifiedKFold(n_splits=n_folds, shuffle=True, random_state=15)\n"
   ]
  },
  {
   "cell_type": "code",
   "execution_count": 211,
   "metadata": {},
   "outputs": [],
   "source": [
    "from sklearn.metrics import accuracy_score, f1_score\n",
    "from sklearn.metrics import classification_report\n",
    "accuracies=[]\n",
    "def stratified_kfold_rf_with_test(X, y, X_test, n_splits, random_state, params):\n",
    "    from sklearn.model_selection import StratifiedKFold\n",
    "    from sklearn.ensemble import RandomForestClassifier\n",
    "    import numpy as np\n",
    "\n",
    "    skf = StratifiedKFold(n_splits=n_splits, shuffle=True, random_state=random_state)\n",
    "    y_test_pred = np.zeros(X_test.shape[0])\n",
    "    \n",
    "    for fold, (train_idx, val_idx) in enumerate(skf.split(X, y)):\n",
    "        print(f\"Fold {fold + 1}\")\n",
    "        \n",
    "        # Split data into train and validation sets using .iloc for integer indexing\n",
    "        X_train, X_val = X.iloc[train_idx], X.iloc[val_idx]\n",
    "        y_train, y_val = y.iloc[train_idx], y.iloc[val_idx]\n",
    "\n",
    "        # Train the model\n",
    "        model = RandomForestClassifier(**params)\n",
    "        model.fit(X_train, y_train)\n",
    "\n",
    "        # Predict on validation set\n",
    "        y_val_pred = model.predict(X_val)\n",
    "        print(classification_report(y_val, y_val_pred))\n",
    "        # Predict on test set\n",
    "        y_test_pred += model.predict(X_test) / n_splits\n",
    "\n",
    "    return y_test_pred\n"
   ]
  },
  {
   "cell_type": "code",
   "execution_count": 212,
   "metadata": {},
   "outputs": [],
   "source": [
    "parms = {'n_estimators': 100 , 'max_depth': 10, 'random_state': 0}"
   ]
  },
  {
   "cell_type": "code",
   "execution_count": 213,
   "metadata": {},
   "outputs": [
    {
     "name": "stdout",
     "output_type": "stream",
     "text": [
      "Columns with string data: Index([], dtype='object')\n"
     ]
    }
   ],
   "source": [
    "# Get columns with string or object types\n",
    "string_columns = X_train.select_dtypes(include=['object', 'string']).columns\n",
    "\n",
    "print(f\"Columns with string data: {string_columns}\")\n"
   ]
  },
  {
   "cell_type": "code",
   "execution_count": 242,
   "metadata": {},
   "outputs": [
    {
     "name": "stdout",
     "output_type": "stream",
     "text": [
      "Fold 1\n",
      "              precision    recall  f1-score   support\n",
      "\n",
      "           0       0.64      0.70      0.67    122740\n",
      "           1       0.68      0.62      0.65    128557\n",
      "\n",
      "    accuracy                           0.66    251297\n",
      "   macro avg       0.66      0.66      0.66    251297\n",
      "weighted avg       0.66      0.66      0.66    251297\n",
      "\n",
      "Fold 2\n",
      "              precision    recall  f1-score   support\n",
      "\n",
      "           0       0.64      0.70      0.67    122740\n",
      "           1       0.69      0.62      0.65    128557\n",
      "\n",
      "    accuracy                           0.66    251297\n",
      "   macro avg       0.66      0.66      0.66    251297\n",
      "weighted avg       0.66      0.66      0.66    251297\n",
      "\n",
      "Fold 3\n",
      "              precision    recall  f1-score   support\n",
      "\n",
      "           0       0.64      0.70      0.67    122740\n",
      "           1       0.68      0.62      0.65    128556\n",
      "\n",
      "    accuracy                           0.66    251296\n",
      "   macro avg       0.66      0.66      0.66    251296\n",
      "weighted avg       0.66      0.66      0.66    251296\n",
      "\n",
      "Fold 4\n",
      "              precision    recall  f1-score   support\n",
      "\n",
      "           0       0.64      0.70      0.67    122740\n",
      "           1       0.69      0.61      0.65    128556\n",
      "\n",
      "    accuracy                           0.66    251296\n",
      "   macro avg       0.66      0.66      0.66    251296\n",
      "weighted avg       0.66      0.66      0.66    251296\n",
      "\n",
      "Fold 5\n",
      "              precision    recall  f1-score   support\n",
      "\n",
      "           0       0.64      0.71      0.67    122740\n",
      "           1       0.69      0.61      0.65    128556\n",
      "\n",
      "    accuracy                           0.66    251296\n",
      "   macro avg       0.66      0.66      0.66    251296\n",
      "weighted avg       0.66      0.66      0.66    251296\n",
      "\n"
     ]
    }
   ],
   "source": [
    "result_dict = stratified_kfold_rf_with_test(X=X_train, y=y, X_test=test, n_splits=5, random_state=42, params=parms)"
   ]
  },
  {
   "cell_type": "code",
   "execution_count": 243,
   "metadata": {},
   "outputs": [
    {
     "name": "stdout",
     "output_type": "stream",
     "text": [
      "Accuracy: 0.6586490623804057\n"
     ]
    }
   ],
   "source": [
    "#round y_test \n",
    "#round result_dict to 1 or 0 \n",
    "import numpy as np\n",
    "proablities = result_dict.copy()\n",
    "result_dict1 = np.round(result_dict)\n",
    "accuracy1 = accuracy_score(y_test, result_dict1)\n",
    "print(f\"Accuracy: {accuracy1}\")"
   ]
  },
  {
   "cell_type": "code",
   "execution_count": 244,
   "metadata": {},
   "outputs": [
    {
     "name": "stdout",
     "output_type": "stream",
     "text": [
      "AUC: 0.6598451743196546\n"
     ]
    }
   ],
   "source": [
    "\n",
    "from sklearn.metrics import roc_auc_score\n",
    "auc_value = roc_auc_score(y_test, result_dict1)\n",
    "print(f\"AUC: {auc_value}\")\n"
   ]
  },
  {
   "cell_type": "code",
   "execution_count": 258,
   "metadata": {},
   "outputs": [
    {
     "name": "stdout",
     "output_type": "stream",
     "text": [
      "0.0 1.0\n"
     ]
    },
    {
     "data": {
      "image/png": "[encoded data removed]",
      "text/plain": [
       "<Figure size 1200x600 with 1 Axes>"
      ]
     },
     "metadata": {},
     "output_type": "display_data"
    }
   ],
   "source": [
    "import numpy as np\n",
    "import matplotlib.pyplot as plt\n",
    "from sklearn.cluster import KMeans\n",
    "import pandas as pd\n",
    "\n",
    "\n",
    "kmeans = KMeans(n_clusters=3, random_state=42)\n",
    "labels = kmeans.fit_predict(proablities.reshape(-1, 1))\n",
    "\n",
    "\n",
    "print(np.min(proablities), np.max(proablities))\n",
    "cluster_map = {cluster: rank for rank, cluster in enumerate(np.argsort(kmeans.cluster_centers_.flatten()))}\n",
    "risk_labels = np.array([\"Low Risk\", \"Medium Risk\", \"High Risk\"])[[cluster_map[label] for label in labels]]\n",
    "\n",
    "\n",
    "data = pd.DataFrame({\n",
    "    \"Probability\": proablities,\n",
    "    \"Risk Cluster\": risk_labels\n",
    "})\n",
    "\n",
    "\n",
    "cluster_counts = data[\"Risk Cluster\"].value_counts()\n",
    "\n",
    "\n",
    "plt.figure(figsize=(12, 6))\n",
    "for risk in [\"Low Risk\", \"Medium Risk\", \"High Risk\"]:\n",
    "    cluster_data = data[data[\"Risk Cluster\"] == risk]\n",
    "    plt.scatter(\n",
    "        np.arange(len(cluster_data)),  \n",
    "        cluster_data[\"Probability\"], \n",
    "        label=risk,\n",
    "        s=30,  \n",
    "        alpha=0.7, \n",
    "       \n",
    "    )\n",
    "\n",
    "\n",
    "custom_labels = [\n",
    "    f\"Low Risk: {cluster_counts.get('Low Risk', 0)} members\",\n",
    "    f\"Medium Risk: {cluster_counts.get('Medium Risk', 0)} members\",\n",
    "    f\"High Risk: {cluster_counts.get('High Risk', 0)} members\"\n",
    "]\n",
    "\n",
    "\n",
    "plt.legend(custom_labels, title=\"Risk Level\", loc=\"upper left\", bbox_to_anchor=(1.05, 1), fontsize=20)\n",
    "\n",
    "\n",
    "plt.title(\"Risk Clusters Based on Predicted Probabilities\", fontsize=20)\n",
    "plt.xlabel(\"Sample Index\", fontsize=20)\n",
    "plt.ylabel(\"Predicted Probability\", fontsize=20)\n",
    "plt.grid(alpha=0.3)\n",
    "\n",
    "plt.tight_layout()\n",
    "plt.show()\n"
   ]
  },
  {
   "cell_type": "code",
   "execution_count": 240,
   "metadata": {},
   "outputs": [
    {
     "name": "stderr",
     "output_type": "stream",
     "text": [
      "C:\\Users\\risha_l\\AppData\\Roaming\\Python\\Python39\\site-packages\\sklearn\\base.py:1473: ConvergenceWarning: Number of distinct clusters (2) found smaller than n_clusters (3). Possibly due to duplicate points in X.\n",
      "  return fit_method(estimator, *args, **kwargs)\n",
      "C:\\Users\\risha_l\\AppData\\Roaming\\Python\\Python39\\site-packages\\sklearn\\base.py:1473: ConvergenceWarning: Number of distinct clusters (2) found smaller than n_clusters (4). Possibly due to duplicate points in X.\n",
      "  return fit_method(estimator, *args, **kwargs)\n",
      "C:\\Users\\risha_l\\AppData\\Roaming\\Python\\Python39\\site-packages\\sklearn\\base.py:1473: ConvergenceWarning: Number of distinct clusters (2) found smaller than n_clusters (5). Possibly due to duplicate points in X.\n",
      "  return fit_method(estimator, *args, **kwargs)\n",
      "C:\\Users\\risha_l\\AppData\\Roaming\\Python\\Python39\\site-packages\\sklearn\\base.py:1473: ConvergenceWarning: Number of distinct clusters (2) found smaller than n_clusters (6). Possibly due to duplicate points in X.\n",
      "  return fit_method(estimator, *args, **kwargs)\n",
      "C:\\Users\\risha_l\\AppData\\Roaming\\Python\\Python39\\site-packages\\sklearn\\base.py:1473: ConvergenceWarning: Number of distinct clusters (2) found smaller than n_clusters (7). Possibly due to duplicate points in X.\n",
      "  return fit_method(estimator, *args, **kwargs)\n",
      "C:\\Users\\risha_l\\AppData\\Roaming\\Python\\Python39\\site-packages\\sklearn\\base.py:1473: ConvergenceWarning: Number of distinct clusters (2) found smaller than n_clusters (8). Possibly due to duplicate points in X.\n",
      "  return fit_method(estimator, *args, **kwargs)\n",
      "C:\\Users\\risha_l\\AppData\\Roaming\\Python\\Python39\\site-packages\\sklearn\\base.py:1473: ConvergenceWarning: Number of distinct clusters (2) found smaller than n_clusters (9). Possibly due to duplicate points in X.\n",
      "  return fit_method(estimator, *args, **kwargs)\n"
     ]
    },
    {
     "data": {
      "image/png": "[encoded data removed]",
      "text/plain": [
       "<Figure size 640x480 with 1 Axes>"
      ]
     },
     "metadata": {},
     "output_type": "display_data"
    }
   ],
   "source": [
    "inertia = []\n",
    "for i in range(1, 10):\n",
    "    kmeans = KMeans(n_clusters=i, random_state=42)\n",
    "    kmeans.fit(proablities.reshape(-1, 1))\n",
    "    inertia.append(kmeans.inertia_)\n",
    "\n",
    "plt.plot(range(1, 10), inertia, marker='o')\n",
    "plt.title('Elbow Method for Optimal K')\n",
    "plt.xlabel('Number of Clusters')\n",
    "plt.ylabel('Inertia')\n",
    "plt.show()\n"
   ]
  },
  {
   "cell_type": "code",
   "execution_count": 70,
   "metadata": {},
   "outputs": [
    {
     "name": "stderr",
     "output_type": "stream",
     "text": [
      "usage: jupyter [-h] [--version] [--config-dir] [--data-dir] [--runtime-dir]\n",
      "               [--paths] [--json] [--debug]\n",
      "               [subcommand]\n",
      "\n",
      "Jupyter: Interactive Computing\n",
      "\n",
      "positional arguments:\n",
      "  subcommand     the subcommand to launch\n",
      "\n",
      "optional arguments:\n",
      "  -h, --help     show this help message and exit\n",
      "  --version      show the versions of core jupyter packages and exit\n",
      "  --config-dir   show Jupyter config dir\n",
      "  --data-dir     show Jupyter data dir\n",
      "  --runtime-dir  show Jupyter runtime dir\n",
      "  --paths        show all Jupyter paths. Add --json for machine-readable\n",
      "                 format.\n",
      "  --json         output paths as machine-readable json\n",
      "  --debug        output debug information about paths\n",
      "\n",
      "Available subcommands: console dejavu events execute kernel kernelspec lab\n",
      "labextension labhub migrate nbconvert notebook run server troubleshoot trust\n",
      "\n",
      "Jupyter command `jupyter-nbextension` not found.\n"
     ]
    }
   ],
   "source": [
    "!jupyter nbextension enable --py widgetsnbextension\n"
   ]
  },
  {
   "cell_type": "code",
   "execution_count": 76,
   "metadata": {},
   "outputs": [
    {
     "name": "stdout",
     "output_type": "stream",
     "text": [
      "MachineIdentifier              object\n",
      "EngineVersion                  object\n",
      "AppVersion                     object\n",
      "AvSigVersion                   object\n",
      "AVProductStatesIdentifier    category\n",
      "                               ...   \n",
      "MegaPixels                    float64\n",
      "Screen_Area                   float64\n",
      "ram_per_processor             float64\n",
      "new_num_0                     float64\n",
      "new_num_1                     float64\n",
      "Length: 84, dtype: object\n"
     ]
    }
   ],
   "source": [
    "print(train.dtypes)\n"
   ]
  },
  {
   "cell_type": "markdown",
   "metadata": {},
   "source": [
    "\n"
   ]
  },
  {
   "cell_type": "code",
   "execution_count": 1,
   "metadata": {},
   "outputs": [
    {
     "name": "stdout",
     "output_type": "stream",
     "text": [
      "Collecting kaggle\n",
      "  Downloading kaggle-1.6.17.tar.gz (82 kB)\n",
      "  Installing build dependencies: started\n",
      "  Installing build dependencies: finished with status 'done'\n",
      "  Getting requirements to build wheel: started\n",
      "  Getting requirements to build wheel: finished with status 'done'\n",
      "  Preparing metadata (pyproject.toml): started\n",
      "  Preparing metadata (pyproject.toml): finished with status 'done'\n",
      "Requirement already satisfied: six>=1.10 in c:\\users\\risha_l\\appdata\\local\\programs\\python\\python312\\lib\\site-packages (from kaggle) (1.16.0)\n",
      "Collecting certifi>=2023.7.22 (from kaggle)\n",
      "  Downloading certifi-2024.8.30-py3-none-any.whl.metadata (2.2 kB)\n",
      "Requirement already satisfied: python-dateutil in c:\\users\\risha_l\\appdata\\local\\programs\\python\\python312\\lib\\site-packages (from kaggle) (2.8.2)\n",
      "Collecting requests (from kaggle)\n",
      "  Downloading requests-2.32.3-py3-none-any.whl.metadata (4.6 kB)\n",
      "Collecting tqdm (from kaggle)\n",
      "  Downloading tqdm-4.66.5-py3-none-any.whl.metadata (57 kB)\n",
      "Collecting python-slugify (from kaggle)\n",
      "  Downloading python_slugify-8.0.4-py2.py3-none-any.whl.metadata (8.5 kB)\n",
      "Collecting urllib3 (from kaggle)\n",
      "  Downloading urllib3-2.2.3-py3-none-any.whl.metadata (6.5 kB)\n",
      "Collecting bleach (from kaggle)\n",
      "  Downloading bleach-6.1.0-py3-none-any.whl.metadata (30 kB)\n",
      "Collecting webencodings (from bleach->kaggle)\n",
      "  Downloading webencodings-0.5.1-py2.py3-none-any.whl.metadata (2.1 kB)\n",
      "Collecting text-unidecode>=1.3 (from python-slugify->kaggle)\n",
      "  Downloading text_unidecode-1.3-py2.py3-none-any.whl.metadata (2.4 kB)\n",
      "Collecting charset-normalizer<4,>=2 (from requests->kaggle)\n",
      "  Downloading charset_normalizer-3.4.0-cp312-cp312-win_amd64.whl.metadata (34 kB)\n",
      "Collecting idna<4,>=2.5 (from requests->kaggle)\n",
      "  Downloading idna-3.10-py3-none-any.whl.metadata (10 kB)\n",
      "Requirement already satisfied: colorama in c:\\users\\risha_l\\appdata\\roaming\\python\\python312\\site-packages (from tqdm->kaggle) (0.4.6)\n",
      "Downloading certifi-2024.8.30-py3-none-any.whl (167 kB)\n",
      "Downloading bleach-6.1.0-py3-none-any.whl (162 kB)\n",
      "Downloading python_slugify-8.0.4-py2.py3-none-any.whl (10 kB)\n",
      "Downloading requests-2.32.3-py3-none-any.whl (64 kB)\n",
      "Downloading urllib3-2.2.3-py3-none-any.whl (126 kB)\n",
      "Downloading tqdm-4.66.5-py3-none-any.whl (78 kB)\n",
      "Downloading charset_normalizer-3.4.0-cp312-cp312-win_amd64.whl (102 kB)\n",
      "Downloading idna-3.10-py3-none-any.whl (70 kB)\n",
      "Downloading text_unidecode-1.3-py2.py3-none-any.whl (78 kB)\n",
      "Downloading webencodings-0.5.1-py2.py3-none-any.whl (11 kB)\n",
      "Building wheels for collected packages: kaggle\n",
      "  Building wheel for kaggle (pyproject.toml): started\n",
      "  Building wheel for kaggle (pyproject.toml): finished with status 'done'\n",
      "  Created wheel for kaggle: filename=kaggle-1.6.17-py3-none-any.whl size=105796 sha256=25f4ce54a608c1929d6b7891180d4ac7cf255d3df7068ac71aca29a6802582e4\n",
      "  Stored in directory: c:\\users\\risha_l\\appdata\\local\\pip\\cache\\wheels\\46\\d2\\26\\84d0a1acdb9c6baccf7d28cf06962ec80529fe1ad938489983\n",
      "Successfully built kaggle\n",
      "Installing collected packages: webencodings, text-unidecode, urllib3, tqdm, python-slugify, idna, charset-normalizer, certifi, bleach, requests, kaggle\n",
      "Successfully installed bleach-6.1.0 certifi-2024.8.30 charset-normalizer-3.4.0 idna-3.10 kaggle-1.6.17 python-slugify-8.0.4 requests-2.32.3 text-unidecode-1.3 tqdm-4.66.5 urllib3-2.2.3 webencodings-0.5.1\n",
      "Note: you may need to restart the kernel to use updated packages.\n"
     ]
    }
   ],
   "source": [
    "pip install kaggle"
   ]
  },
  {
   "cell_type": "code",
   "execution_count": null,
   "metadata": {},
   "outputs": [],
   "source": []
  }
 ],
 "metadata": {
  "kernelspec": {
   "display_name": "Python 3",
   "language": "python",
   "name": "python3"
  },
  "language_info": {
   "codemirror_mode": {
    "name": "ipython",
    "version": 3
   },
   "file_extension": ".py",
   "mimetype": "text/x-python",
   "name": "python",
   "nbconvert_exporter": "python",
   "pygments_lexer": "ipython3",
   "version": "3.9.0"
  }
 },
 "nbformat": 4,
 "nbformat_minor": 2
}
